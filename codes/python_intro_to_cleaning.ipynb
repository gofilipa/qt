{
 "cells": [
  {
   "cell_type": "markdown",
   "metadata": {
    "id": "jisTOxljJamH"
   },
   "source": [
    "# introduction to python: loops to cleaning"
   ]
  },
  {
   "cell_type": "markdown",
   "metadata": {},
   "source": [
    "## first expressions, some syntax"
   ]
  },
  {
   "cell_type": "markdown",
   "metadata": {
    "id": "TsXWVW2iJjER"
   },
   "source": [
    "We begin with a common first expression. A \"string\" of text inside of a function that declares, \"Hello world!\""
   ]
  },
  {
   "cell_type": "code",
   "execution_count": null,
   "metadata": {
    "colab": {
     "base_uri": "https://localhost:8080/"
    },
    "id": "wyYKQ0l3UjfV",
    "outputId": "1f2f6769-eb41-4af9-b1df-fdeb8636a02b"
   },
   "outputs": [],
   "source": [
    "print('hello world!') # footnote: the print() function comes "
   ]
  },
  {
   "cell_type": "markdown",
   "metadata": {},
   "source": [
    "A `string` is a type of data. Other types of data include `integer`, `float`, `list`, and `boolean`. \n",
    "\n",
    "With the `integer` type, for example, you can do arithmetic."
   ]
  },
  {
   "cell_type": "code",
   "execution_count": null,
   "metadata": {
    "colab": {
     "base_uri": "https://localhost:8080/"
    },
    "id": "vOKJm769VWVs",
    "outputId": "a5bb8632-965f-4cb4-ff3c-0fd6a9771262"
   },
   "outputs": [],
   "source": [
    "1 + 1"
   ]
  },
  {
   "cell_type": "code",
   "execution_count": null,
   "metadata": {
    "colab": {
     "base_uri": "https://localhost:8080/"
    },
    "id": "hN185G4XVXyh",
    "outputId": "b6b53270-010e-4e84-9a8b-80a06ad96761"
   },
   "outputs": [],
   "source": [
    "4 * 8"
   ]
  },
  {
   "cell_type": "markdown",
   "metadata": {},
   "source": [
    "Each type of data is constrained to certain kinds of actions. With the `string` type, you can change text, like make a piece of text uppercase with `upper()`, or replace a bit of text with `replace()`."
   ]
  },
  {
   "cell_type": "code",
   "execution_count": null,
   "metadata": {},
   "outputs": [],
   "source": [
    "'hello world!'.upper()"
   ]
  },
  {
   "cell_type": "code",
   "execution_count": null,
   "metadata": {},
   "outputs": [],
   "source": [
    "'hello world!'.replace('hello', 'goodbye')"
   ]
  },
  {
   "cell_type": "markdown",
   "metadata": {},
   "source": [
    "Like in natural (human) language, syntax in programming languages depends on an relationship between subject and predicate. In the first example, the `print()` function, `print()` is the subject that takes a bit of data, a string like `hello world!`, into its parentheses. In this expression, `print()` is the main actor. \n",
    "\n",
    "In the second example, `hello world!` is the main actor, the subject, of the expression. The methods `upper()` and `replace()` are appended to the subject following a dot `.`, and these methods work like predicates on `hello world!`. Some predicates, like `replace()`, for example, themselves take more predicates, like replacement words. You can think of these methods like independent clauses within the whole. \n",
    "\n",
    "The relationship between subject and predicate, between functions, methods, and their objects, is complex and will only start to make sense with practice. For now, it suffices to know that the order of elements in an expression revels something about the underlying process about how transformations work on data. "
   ]
  },
  {
   "cell_type": "markdown",
   "metadata": {},
   "source": [
    "## variables"
   ]
  },
  {
   "cell_type": "code",
   "execution_count": null,
   "metadata": {
    "id": "iNnTwXobVZg6"
   },
   "outputs": [],
   "source": [
    "x = 5"
   ]
  },
  {
   "cell_type": "markdown",
   "metadata": {},
   "source": [
    "Variabes are assigned with an equals sign. The variable name is on the left of the equals sign. The value assigned to the variable is on the right. In this way, variables are passive constructions.  "
   ]
  },
  {
   "cell_type": "code",
   "execution_count": null,
   "metadata": {
    "id": "ME-5PfFxVunV"
   },
   "outputs": [],
   "source": [
    "y = 7"
   ]
  },
  {
   "cell_type": "code",
   "execution_count": null,
   "metadata": {
    "colab": {
     "base_uri": "https://localhost:8080/"
    },
    "id": "sn6lgrS9VyrL",
    "outputId": "0d8db75e-382d-4c8c-f390-bfe6b72af343"
   },
   "outputs": [],
   "source": [
    "x"
   ]
  },
  {
   "cell_type": "code",
   "execution_count": null,
   "metadata": {
    "colab": {
     "base_uri": "https://localhost:8080/"
    },
    "id": "4p3Au5CAVzkF",
    "outputId": "b67e7837-1a18-40b1-c135-0df6ad4be2c5"
   },
   "outputs": [],
   "source": [
    "x + y"
   ]
  },
  {
   "cell_type": "markdown",
   "metadata": {},
   "source": [
    "Variables can be reassigned, which makes them somewhat slippery."
   ]
  },
  {
   "cell_type": "code",
   "execution_count": null,
   "metadata": {
    "id": "jrTXQ1YOV8RK"
   },
   "outputs": [],
   "source": [
    "x = 10"
   ]
  },
  {
   "cell_type": "code",
   "execution_count": null,
   "metadata": {
    "colab": {
     "base_uri": "https://localhost:8080/"
    },
    "id": "BVvGMVT7V9Ga",
    "outputId": "b6138e76-43aa-4bf8-93e8-048cbd7caab0"
   },
   "outputs": [],
   "source": [
    "x"
   ]
  },
  {
   "cell_type": "markdown",
   "metadata": {},
   "source": [
    "White spaces don't matter in Python, unless within a \"code block\" (defined below)."
   ]
  },
  {
   "cell_type": "code",
   "execution_count": null,
   "metadata": {
    "id": "FyQPuFMoV9cB"
   },
   "outputs": [],
   "source": [
    "x=10"
   ]
  },
  {
   "cell_type": "code",
   "execution_count": null,
   "metadata": {
    "id": "Rv5FPaU3WAQn"
   },
   "outputs": [],
   "source": [
    "x       =     7"
   ]
  },
  {
   "cell_type": "code",
   "execution_count": null,
   "metadata": {
    "colab": {
     "base_uri": "https://localhost:8080/"
    },
    "id": "2V5p11aeWDtE",
    "outputId": "09da97c5-b6ad-4651-d7c6-b9f9947670f8"
   },
   "outputs": [],
   "source": [
    "x"
   ]
  },
  {
   "cell_type": "markdown",
   "metadata": {},
   "source": [
    "## abstraction\n",
    "Abstraction is when you use a variable to do some kind of action or transformation, and set the results to another variable."
   ]
  },
  {
   "cell_type": "code",
   "execution_count": null,
   "metadata": {},
   "outputs": [],
   "source": [
    "c = x + y"
   ]
  },
  {
   "cell_type": "code",
   "execution_count": null,
   "metadata": {
    "id": "vgbN4dk4WEWp"
   },
   "outputs": [],
   "source": [
    "x = c"
   ]
  },
  {
   "cell_type": "code",
   "execution_count": null,
   "metadata": {},
   "outputs": [],
   "source": [
    "c"
   ]
  },
  {
   "cell_type": "code",
   "execution_count": null,
   "metadata": {
    "colab": {
     "base_uri": "https://localhost:8080/"
    },
    "id": "AOCvuLHPWNho",
    "outputId": "1d3a8c4f-a485-4158-faf5-8c1a5585d5cb"
   },
   "outputs": [],
   "source": [
    "x"
   ]
  },
  {
   "cell_type": "code",
   "execution_count": null,
   "metadata": {
    "id": "ZLWnuBr-Wour"
   },
   "outputs": [],
   "source": [
    "x = 'hello'"
   ]
  },
  {
   "cell_type": "markdown",
   "metadata": {},
   "source": [
    "## data types\n",
    "Data types determine what you can and cannot do with data. Use the `type()` function to check the type of data you are working with. "
   ]
  },
  {
   "cell_type": "code",
   "execution_count": null,
   "metadata": {
    "colab": {
     "base_uri": "https://localhost:8080/"
    },
    "id": "uuI4rE6EW7kE",
    "outputId": "fb9f22d4-2a06-4c1d-c118-c7199be5f67f"
   },
   "outputs": [],
   "source": [
    "type('hello')"
   ]
  },
  {
   "cell_type": "code",
   "execution_count": null,
   "metadata": {
    "colab": {
     "base_uri": "https://localhost:8080/"
    },
    "id": "SUAPaf-HWp9R",
    "outputId": "01a53401-91a2-45de-cc55-e5037c8c0057"
   },
   "outputs": [],
   "source": [
    "type(1)"
   ]
  },
  {
   "cell_type": "code",
   "execution_count": null,
   "metadata": {
    "colab": {
     "base_uri": "https://localhost:8080/"
    },
    "id": "bYgKJa9PW9wE",
    "outputId": "a13c8ac1-0bad-4903-bc35-2170a6dc1a5f"
   },
   "outputs": [],
   "source": [
    "type(True)"
   ]
  },
  {
   "cell_type": "code",
   "execution_count": null,
   "metadata": {
    "id": "RxANcrYFXBLz"
   },
   "outputs": [],
   "source": [
    "breakfast = ['eggs', 'bagels', 'coffee', 'codfish', 'apple']"
   ]
  },
  {
   "cell_type": "code",
   "execution_count": null,
   "metadata": {
    "colab": {
     "base_uri": "https://localhost:8080/"
    },
    "id": "PPMIoBKHX97P",
    "outputId": "d5790c19-a3cb-47e9-d2c8-f4a44768e277"
   },
   "outputs": [],
   "source": [
    "breakfast"
   ]
  },
  {
   "cell_type": "code",
   "execution_count": null,
   "metadata": {
    "colab": {
     "base_uri": "https://localhost:8080/"
    },
    "id": "0dgAFxWNX-j-",
    "outputId": "43e16e9e-90d7-483b-c46c-570efc0ebade"
   },
   "outputs": [],
   "source": [
    "type(breakfast)"
   ]
  },
  {
   "cell_type": "code",
   "execution_count": null,
   "metadata": {
    "colab": {
     "base_uri": "https://localhost:8080/",
     "height": 36
    },
    "id": "BdFewfjGYGLf",
    "outputId": "e251a756-9497-4df1-a937-7d2d7f0a61cd"
   },
   "outputs": [],
   "source": [
    "x"
   ]
  },
  {
   "cell_type": "markdown",
   "metadata": {},
   "source": [
    "Specific types of data, like strings, have specific methods associated with them, which will not work on other types of data. For example `upper()` and `replace()` will only work on the string type of data, while `append()` will only work with lists."
   ]
  },
  {
   "cell_type": "code",
   "execution_count": null,
   "metadata": {
    "colab": {
     "base_uri": "https://localhost:8080/",
     "height": 36
    },
    "id": "4r0igbs-Ylqg",
    "outputId": "de49615b-d474-40c7-88f2-29435e4a13a4"
   },
   "outputs": [],
   "source": [
    "x.upper()"
   ]
  },
  {
   "cell_type": "code",
   "execution_count": null,
   "metadata": {
    "colab": {
     "base_uri": "https://localhost:8080/",
     "height": 36
    },
    "id": "txKHCJYdYqsu",
    "outputId": "1a4728f8-920d-457f-b56a-c30503b87099"
   },
   "outputs": [],
   "source": [
    "x.replace('e', 'a')"
   ]
  },
  {
   "cell_type": "code",
   "execution_count": null,
   "metadata": {
    "id": "cx6_Vj-gZPrh"
   },
   "outputs": [],
   "source": [
    "breakfast.append('yogurt')"
   ]
  },
  {
   "cell_type": "code",
   "execution_count": null,
   "metadata": {
    "colab": {
     "base_uri": "https://localhost:8080/"
    },
    "id": "gXCqO7NOZmuU",
    "outputId": "3096ca5f-2fdb-410a-a9cb-7755886cae3a"
   },
   "outputs": [],
   "source": [
    "breakfast"
   ]
  },
  {
   "cell_type": "markdown",
   "metadata": {},
   "source": [
    "The error message, especially the last line, is informative: here it indicates that we cannot use `replace()` with list type of objects."
   ]
  },
  {
   "cell_type": "code",
   "execution_count": null,
   "metadata": {
    "colab": {
     "base_uri": "https://localhost:8080/",
     "height": 147
    },
    "id": "DxyI4tRuZpLC",
    "outputId": "fd3b3db1-4281-4a33-8e6f-d404d9555c69"
   },
   "outputs": [],
   "source": [
    "breakfast.replace('coffee', 'tea')"
   ]
  },
  {
   "cell_type": "code",
   "execution_count": null,
   "metadata": {
    "colab": {
     "base_uri": "https://localhost:8080/",
     "height": 147
    },
    "id": "_Z6KvmG8Z227",
    "outputId": "e76194a0-33bf-49fc-d801-d54a97990ddf"
   },
   "outputs": [],
   "source": [
    "breakfast.upper()"
   ]
  },
  {
   "cell_type": "markdown",
   "metadata": {},
   "source": [
    "## loops"
   ]
  },
  {
   "cell_type": "code",
   "execution_count": null,
   "metadata": {
    "colab": {
     "base_uri": "https://localhost:8080/"
    },
    "id": "roLMYoThaKup",
    "outputId": "b39174c6-53ec-4356-f102-f66edf34c829"
   },
   "outputs": [],
   "source": [
    "for letter in 'hello':\n",
    "  print(letter)\n",
    "  print(letter.upper())"
   ]
  },
  {
   "cell_type": "code",
   "execution_count": null,
   "metadata": {
    "colab": {
     "base_uri": "https://localhost:8080/"
    },
    "id": "tJRuUDH1cM1m",
    "outputId": "aa21364a-b78c-49c2-9558-1ed4603f3247"
   },
   "outputs": [],
   "source": [
    "name = []\n",
    "for z in 'filipa':\n",
    "  print(z.upper())\n",
    "  name.append(z.upper())"
   ]
  },
  {
   "cell_type": "code",
   "execution_count": null,
   "metadata": {
    "colab": {
     "base_uri": "https://localhost:8080/"
    },
    "id": "kg9hzlyCcac2",
    "outputId": "6f3bf65c-3b45-4c12-f7d9-b3485faddc8e"
   },
   "outputs": [],
   "source": [
    "breakfast"
   ]
  },
  {
   "cell_type": "code",
   "execution_count": null,
   "metadata": {
    "id": "cRoNr3iZdq9a"
   },
   "outputs": [],
   "source": [
    "import requests\n",
    "source = requests.get('https://bit.ly/transgender_text')\n",
    "text = source.content"
   ]
  },
  {
   "cell_type": "code",
   "execution_count": null,
   "metadata": {
    "colab": {
     "base_uri": "https://localhost:8080/"
    },
    "id": "WQ_q5oo3fOM4",
    "outputId": "6d7fd3e0-bab9-4aa5-d673-3b38336a82ad"
   },
   "outputs": [],
   "source": [
    "text"
   ]
  },
  {
   "cell_type": "code",
   "execution_count": null,
   "metadata": {
    "id": "xAsHAlOWfXsm"
   },
   "outputs": [],
   "source": [
    "take_out = ['\\n', '  ', '</pre>', '</body>', '&lt;all&gt;']"
   ]
  },
  {
   "cell_type": "code",
   "execution_count": null,
   "metadata": {
    "id": "3hQhjvPxgpej"
   },
   "outputs": [],
   "source": [
    "for item in take_out:\n",
    "  if item in text:\n",
    "    text = text.replace(item, '')"
   ]
  },
  {
   "cell_type": "code",
   "execution_count": null,
   "metadata": {
    "colab": {
     "base_uri": "https://localhost:8080/",
     "height": 201
    },
    "id": "7PWzhJWyhsh4",
    "outputId": "34d60263-7b89-44f7-e181-982d034b79f6"
   },
   "outputs": [],
   "source": [
    "text"
   ]
  },
  {
   "cell_type": "code",
   "execution_count": null,
   "metadata": {
    "id": "GjW4OCDbiiAM"
   },
   "outputs": [],
   "source": []
  }
 ],
 "metadata": {
  "colab": {
   "provenance": []
  },
  "kernelspec": {
   "display_name": "Python 3 (ipykernel)",
   "language": "python",
   "name": "python3"
  },
  "language_info": {
   "codemirror_mode": {
    "name": "ipython",
    "version": 3
   },
   "file_extension": ".py",
   "mimetype": "text/x-python",
   "name": "python",
   "nbconvert_exporter": "python",
   "pygments_lexer": "ipython3",
   "version": "3.11.0"
  }
 },
 "nbformat": 4,
 "nbformat_minor": 1
}
