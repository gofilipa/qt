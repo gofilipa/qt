{
 "cells": [
  {
   "cell_type": "code",
   "execution_count": null,
   "metadata": {},
   "outputs": [],
   "source": [
    "import nltk\n",
    "import matplotlib\n",
    "%matplotlib inline"
   ]
  },
  {
   "cell_type": "markdown",
   "metadata": {},
   "source": [
    "# loading & tokenizing orlando"
   ]
  },
  {
   "cell_type": "code",
   "execution_count": 3,
   "metadata": {},
   "outputs": [],
   "source": [
    "from urllib.request import urlopen\n",
    "my_url = \"http://gutenberg.net.au/ebooks02/0200331.txt\""
   ]
  },
  {
   "cell_type": "code",
   "execution_count": 4,
   "metadata": {},
   "outputs": [
    {
     "data": {
      "text/plain": [
       "bytes"
      ]
     },
     "execution_count": 4,
     "metadata": {},
     "output_type": "execute_result"
    }
   ],
   "source": [
    "file = urlopen(my_url)\n",
    "raw = file.read()\n",
    "type(raw)"
   ]
  },
  {
   "cell_type": "code",
   "execution_count": 5,
   "metadata": {},
   "outputs": [],
   "source": [
    "woolf = raw.decode()"
   ]
  },
  {
   "cell_type": "code",
   "execution_count": 6,
   "metadata": {},
   "outputs": [
    {
     "data": {
      "text/plain": [
       "str"
      ]
     },
     "execution_count": 6,
     "metadata": {},
     "output_type": "execute_result"
    }
   ],
   "source": [
    "type(woolf)"
   ]
  },
  {
   "cell_type": "code",
   "execution_count": 7,
   "metadata": {},
   "outputs": [
    {
     "data": {
      "text/plain": [
       "list"
      ]
     },
     "execution_count": 7,
     "metadata": {},
     "output_type": "execute_result"
    }
   ],
   "source": [
    "woolf_tokens = nltk.word_tokenize(woolf)\n",
    "type(woolf_tokens)"
   ]
  },
  {
   "cell_type": "code",
   "execution_count": 8,
   "metadata": {},
   "outputs": [
    {
     "data": {
      "text/plain": [
       "92334"
      ]
     },
     "execution_count": 8,
     "metadata": {},
     "output_type": "execute_result"
    }
   ],
   "source": [
    "len(woolf_tokens)"
   ]
  },
  {
   "cell_type": "code",
   "execution_count": 9,
   "metadata": {},
   "outputs": [
    {
     "data": {
      "text/plain": [
       "['Project',\n",
       " 'Gutenberg',\n",
       " 'Australia',\n",
       " 'Title',\n",
       " ':',\n",
       " 'Orlando',\n",
       " 'Author',\n",
       " ':',\n",
       " 'Virginia',\n",
       " 'Woolf',\n",
       " '*',\n",
       " 'A',\n",
       " 'Project',\n",
       " 'Gutenberg',\n",
       " 'of',\n",
       " 'Australia',\n",
       " 'eBook',\n",
       " '*',\n",
       " 'eBook',\n",
       " 'No',\n",
       " '.',\n",
       " ':',\n",
       " '0200331.txt',\n",
       " 'Language',\n",
       " ':',\n",
       " 'English',\n",
       " 'Date',\n",
       " 'first',\n",
       " 'posted',\n",
       " ':',\n",
       " 'April',\n",
       " '2002',\n",
       " 'Date',\n",
       " 'most',\n",
       " 'recently',\n",
       " 'updated',\n",
       " ':',\n",
       " 'July',\n",
       " '2015',\n",
       " 'This',\n",
       " 'eBook',\n",
       " 'was',\n",
       " 'produced',\n",
       " 'by',\n",
       " ':',\n",
       " 'Sue',\n",
       " 'Asscher',\n",
       " 'Project',\n",
       " 'Gutenberg',\n",
       " 'of']"
      ]
     },
     "execution_count": 9,
     "metadata": {},
     "output_type": "execute_result"
    }
   ],
   "source": [
    "woolf_tokens[:50]"
   ]
  },
  {
   "cell_type": "code",
   "execution_count": 10,
   "metadata": {},
   "outputs": [],
   "source": [
    "o_text = woolf_tokens"
   ]
  },
  {
   "cell_type": "code",
   "execution_count": 11,
   "metadata": {},
   "outputs": [],
   "source": [
    "o_text = o_text[872:]"
   ]
  },
  {
   "cell_type": "code",
   "execution_count": 12,
   "metadata": {},
   "outputs": [
    {
     "name": "stdout",
     "output_type": "stream",
     "text": [
      "['He', '--', 'for', 'there', 'could', 'be', 'no', 'doubt', 'of', 'his', 'sex', ',', 'though', 'the', 'fashion', 'of', 'the', 'time', 'did', 'something', 'to', 'disguise', 'it', '--', 'was', 'in', 'the', 'act', 'of', 'slicing', 'at', 'the', 'head', 'of', 'a', 'Moor', 'which', 'swung', 'from', 'the', 'rafters', '.', 'It', 'was', 'the', 'colour', 'of', 'an', 'old', 'football', ',', 'and', 'more', 'or', 'less', 'the', 'shape', 'of', 'one', ',', 'save', 'for', 'the', 'sunken', 'cheeks', 'and', 'a', 'strand', 'or', 'two', 'of', 'coarse', ',', 'dry', 'hair', ',', 'like', 'the', 'hair', 'on', 'a', 'cocoanut', '.', 'Orlando', \"'s\", 'father', ',', 'or', 'perhaps', 'his', 'grandfather', ',', 'had', 'struck', 'it', 'from', 'the', 'shoulders', 'of', 'a']\n"
     ]
    }
   ],
   "source": [
    "print(o_text[:100])"
   ]
  },
  {
   "cell_type": "code",
   "execution_count": 13,
   "metadata": {
    "scrolled": true
   },
   "outputs": [
    {
     "data": {
      "text/plain": [
       "list"
      ]
     },
     "execution_count": 13,
     "metadata": {},
     "output_type": "execute_result"
    }
   ],
   "source": [
    "type(o_text)"
   ]
  },
  {
   "cell_type": "markdown",
   "metadata": {},
   "source": [
    "# playing with stopwords"
   ]
  },
  {
   "cell_type": "code",
   "execution_count": 14,
   "metadata": {},
   "outputs": [],
   "source": [
    "from nltk.corpus import stopwords"
   ]
  },
  {
   "cell_type": "code",
   "execution_count": 15,
   "metadata": {},
   "outputs": [
    {
     "name": "stdout",
     "output_type": "stream",
     "text": [
      "['i', 'me', 'my', 'myself', 'we', 'our', 'ours', 'ourselves', 'you', \"you're\", \"you've\", \"you'll\", \"you'd\", 'your', 'yours', 'yourself', 'yourselves', 'he', 'him', 'his', 'himself', 'she', \"she's\", 'her', 'hers', 'herself', 'it', \"it's\", 'its', 'itself', 'they', 'them', 'their', 'theirs', 'themselves', 'what', 'which', 'who', 'whom', 'this', 'that', \"that'll\", 'these', 'those', 'am', 'is', 'are', 'was', 'were', 'be', 'been', 'being', 'have', 'has', 'had', 'having', 'do', 'does', 'did', 'doing', 'a', 'an', 'the', 'and', 'but', 'if', 'or', 'because', 'as', 'until', 'while', 'of', 'at', 'by', 'for', 'with', 'about', 'against', 'between', 'into', 'through', 'during', 'before', 'after', 'above', 'below', 'to', 'from', 'up', 'down', 'in', 'out', 'on', 'off', 'over', 'under', 'again', 'further', 'then', 'once', 'here', 'there', 'when', 'where', 'why', 'how', 'all', 'any', 'both', 'each', 'few', 'more', 'most', 'other', 'some', 'such', 'no', 'nor', 'not', 'only', 'own', 'same', 'so', 'than', 'too', 'very', 's', 't', 'can', 'will', 'just', 'don', \"don't\", 'should', \"should've\", 'now', 'd', 'll', 'm', 'o', 're', 've', 'y', 'ain', 'aren', \"aren't\", 'couldn', \"couldn't\", 'didn', \"didn't\", 'doesn', \"doesn't\", 'hadn', \"hadn't\", 'hasn', \"hasn't\", 'haven', \"haven't\", 'isn', \"isn't\", 'ma', 'mightn', \"mightn't\", 'mustn', \"mustn't\", 'needn', \"needn't\", 'shan', \"shan't\", 'shouldn', \"shouldn't\", 'wasn', \"wasn't\", 'weren', \"weren't\", 'won', \"won't\", 'wouldn', \"wouldn't\"]\n"
     ]
    }
   ],
   "source": [
    "stops = stopwords.words('english')\n",
    "print(stops)"
   ]
  },
  {
   "cell_type": "code",
   "execution_count": 16,
   "metadata": {},
   "outputs": [],
   "source": [
    "o_text_stops = []\n",
    "for t in o_text:\n",
    "    if t in stops:\n",
    "         o_text_stops.append(t)"
   ]
  },
  {
   "cell_type": "code",
   "execution_count": 17,
   "metadata": {},
   "outputs": [
    {
     "data": {
      "text/plain": [
       "38262"
      ]
     },
     "execution_count": 17,
     "metadata": {},
     "output_type": "execute_result"
    }
   ],
   "source": [
    "len(o_text_stops)"
   ]
  },
  {
   "cell_type": "code",
   "execution_count": 18,
   "metadata": {},
   "outputs": [
    {
     "name": "stdout",
     "output_type": "stream",
     "text": [
      "['for', 'there', 'be', 'no', 'of', 'his', 'the', 'of', 'the', 'did', 'to', 'it', 'was', 'in', 'the', 'of', 'at', 'the', 'of', 'a', 'which', 'from', 'the', 'was', 'the', 'of', 'an', 'and', 'more', 'or', 'the', 'of', 'for', 'the', 'and', 'a', 'or', 'of', 'the', 'on', 'a', 'or', 'his', 'had', 'it', 'from', 'the', 'of', 'a', 'who', 'had', 'up', 'under', 'the', 'in', 'the', 'of', 'and', 'now', 'it', 'in', 'the', 'which', 'through', 'the', 'of', 'the', 'of', 'the', 'who', 'had', 'him', 'had', 'in', 'of', 'and', 'and', 'by', 'and', 'they', 'had', 'of', 'off', 'and', 'them', 'to', 'from', 'the', 'too', 'he', 'he', 'was', 'only', 'and', 'too', 'to', 'with', 'them', 'in', 'or']\n"
     ]
    }
   ],
   "source": [
    "print(o_text_stops[:100])"
   ]
  },
  {
   "cell_type": "markdown",
   "metadata": {},
   "source": [
    "# contexts & correlations"
   ]
  },
  {
   "cell_type": "code",
   "execution_count": 23,
   "metadata": {},
   "outputs": [],
   "source": [
    "orl = nltk.Text(o_text)"
   ]
  },
  {
   "cell_type": "code",
   "execution_count": 26,
   "metadata": {},
   "outputs": [
    {
     "data": {
      "text/plain": [
       "<Text: He -- for there could be no doubt...>"
      ]
     },
     "execution_count": 26,
     "metadata": {},
     "output_type": "execute_result"
    }
   ],
   "source": [
    "orl"
   ]
  },
  {
   "cell_type": "code",
   "execution_count": 31,
   "metadata": {},
   "outputs": [
    {
     "name": "stdout",
     "output_type": "stream",
     "text": [
      "man moment night boy word world child pen ship door one room window\n",
      "light little lady table book queen king\n"
     ]
    }
   ],
   "source": [
    "orl.similar(\"woman\")"
   ]
  },
  {
   "cell_type": "code",
   "execution_count": 28,
   "metadata": {},
   "outputs": [
    {
     "name": "stdout",
     "output_type": "stream",
     "text": [
      "woman word lady moment night boy poet little sight time one house\n",
      "window life table thought tree queen world truth\n"
     ]
    }
   ],
   "source": [
    "orl.similar(\"man\")"
   ]
  },
  {
   "cell_type": "code",
   "execution_count": 63,
   "metadata": {},
   "outputs": [
    {
     "name": "stdout",
     "output_type": "stream",
     "text": [
      "woman man time book and house way window lady sky day word thing other\n",
      "world night river matter change room\n"
     ]
    }
   ],
   "source": [
    "orl.similar(\"moment\")"
   ]
  },
  {
   "cell_type": "code",
   "execution_count": 64,
   "metadata": {},
   "outputs": [
    {
     "name": "stdout",
     "output_type": "stream",
     "text": [
      "man book woman time poet lady sight change hair house turn thought\n",
      "moment fox queen child rest spirit more room\n"
     ]
    }
   ],
   "source": [
    "orl.similar(\"word\")"
   ]
  },
  {
   "cell_type": "code",
   "execution_count": 67,
   "metadata": {},
   "outputs": [
    {
     "name": "stdout",
     "output_type": "stream",
     "text": [
      "table woman head house room river matter air floor window hand legs\n",
      "face trees sky other moment ship heart finger\n"
     ]
    }
   ],
   "source": [
    "orl.similar(\"pen\")"
   ]
  },
  {
   "cell_type": "code",
   "execution_count": 68,
   "metadata": {},
   "outputs": [
    {
     "name": "stdout",
     "output_type": "stream",
     "text": [
      "park man room sky word queen time and house air lady table age other\n",
      "world sight question pavement one hair\n"
     ]
    }
   ],
   "source": [
    "orl.similar(\"poet\")"
   ]
  },
  {
   "cell_type": "code",
   "execution_count": 40,
   "metadata": {},
   "outputs": [
    {
     "name": "stdout",
     "output_type": "stream",
     "text": [
      "Displaying 25 of 123 matches:\n",
      "charm -- all qualities which the old woman loved the more the more they failed \n",
      "yed her cheeks scarlet . For the old woman loved him . And the Queen , who knew\n",
      "rladen with apples . The old bumboat woman , who was carrying her fruit to mark\n",
      "a figure , which , whether boy 's or woman 's , for the loose tunic and trouser\n",
      " , for alas , a boy it must be -- no woman could skate with such speed and vigo\n",
      "s not a handsbreadth off . She was a woman . Orlando stared ; trembled ; turned\n",
      "mult of emotion , until now ? An old woman , he answered , all skin and bone . \n",
      "e for sea birds and some old country woman hacking at the ice in a vain attempt\n",
      "h their heat , and pity the poor old woman who had no such natural means of tha\n",
      "agan ; of this man 's beard and that woman 's skin ; of a rat that fed from her\n",
      "of melancholy ; the sight of the old woman hobbling over the ice might be the c\n",
      "en waters or night coming or the old woman or whatever it was , and would try t\n",
      "anners were certainly not those of a woman bred in a cattle-shed . What , then \n",
      "st career in the world for a Cossack woman and a waste of snow -- it weighed no\n",
      " arms and vociferating . There was a woman in white laid upon a bed . Rough tho\n",
      "y , and when the Moor suffocated the woman in her bed it was Sasha he killed wi\n",
      " the cobbles , or at the rustle of a woman 's dress . But the traveller was onl\n",
      "hant , making home belated ; or some woman of the quarter whose errand was noth\n",
      " in water he hurled at the faithless woman all the insults that have ever been \n",
      "obinson by way of making a Christian woman of her , understood what they were a\n",
      "ght or the left ? The hand of man or woman , of age or youth ? Had it urged the\n",
      " with sobs , all for the desire of a woman in Russian trousers , with slanting \n",
      "- like a dog chasing a cat or an old woman blowing her nose into a red cotton h\n",
      "to talk about -- a dog , a horse , a woman , a game of cards -- seem brutish in\n",
      "out somehow to allude to this humble woman and her milk-pails , when the poet f\n"
     ]
    },
    {
     "ename": "TypeError",
     "evalue": "write() argument must be str, not None",
     "output_type": "error",
     "traceback": [
      "\u001b[0;31m---------------------------------------------------------------------------\u001b[0m",
      "\u001b[0;31mTypeError\u001b[0m                                 Traceback (most recent call last)",
      "\u001b[0;32m<ipython-input-40-ebbd010d3513>\u001b[0m in \u001b[0;36m<module>\u001b[0;34m\u001b[0m\n\u001b[1;32m      1\u001b[0m \u001b[0;32mwith\u001b[0m \u001b[0mopen\u001b[0m\u001b[0;34m(\u001b[0m\u001b[0;34m'output.txt'\u001b[0m\u001b[0;34m,\u001b[0m \u001b[0;34m'w'\u001b[0m\u001b[0;34m)\u001b[0m \u001b[0;32mas\u001b[0m \u001b[0mf\u001b[0m\u001b[0;34m:\u001b[0m\u001b[0;34m\u001b[0m\u001b[0;34m\u001b[0m\u001b[0m\n\u001b[0;32m----> 2\u001b[0;31m     \u001b[0mf\u001b[0m\u001b[0;34m.\u001b[0m\u001b[0mwrite\u001b[0m\u001b[0;34m(\u001b[0m\u001b[0morl\u001b[0m\u001b[0;34m.\u001b[0m\u001b[0mconcordance\u001b[0m\u001b[0;34m(\u001b[0m\u001b[0;34m\"woman\"\u001b[0m\u001b[0;34m)\u001b[0m\u001b[0;34m)\u001b[0m\u001b[0;34m\u001b[0m\u001b[0;34m\u001b[0m\u001b[0m\n\u001b[0m",
      "\u001b[0;31mTypeError\u001b[0m: write() argument must be str, not None"
     ]
    }
   ],
   "source": [
    "with open('output.txt', 'w') as f:\n",
    "    f.write(orl.concordance(\"woman\"))\n"
   ]
  },
  {
   "cell_type": "code",
   "execution_count": 42,
   "metadata": {},
   "outputs": [
    {
     "name": "stdout",
     "output_type": "stream",
     "text": [
      "Displaying 25 of 123 matches:\n",
      "charm -- all qualities which the old woman loved the more the more they failed \n",
      "yed her cheeks scarlet . For the old woman loved him . And the Queen , who knew\n",
      "rladen with apples . The old bumboat woman , who was carrying her fruit to mark\n",
      "a figure , which , whether boy 's or woman 's , for the loose tunic and trouser\n",
      " , for alas , a boy it must be -- no woman could skate with such speed and vigo\n",
      "s not a handsbreadth off . She was a woman . Orlando stared ; trembled ; turned\n",
      "mult of emotion , until now ? An old woman , he answered , all skin and bone . \n",
      "e for sea birds and some old country woman hacking at the ice in a vain attempt\n",
      "h their heat , and pity the poor old woman who had no such natural means of tha\n",
      "agan ; of this man 's beard and that woman 's skin ; of a rat that fed from her\n",
      "of melancholy ; the sight of the old woman hobbling over the ice might be the c\n",
      "en waters or night coming or the old woman or whatever it was , and would try t\n",
      "anners were certainly not those of a woman bred in a cattle-shed . What , then \n",
      "st career in the world for a Cossack woman and a waste of snow -- it weighed no\n",
      " arms and vociferating . There was a woman in white laid upon a bed . Rough tho\n",
      "y , and when the Moor suffocated the woman in her bed it was Sasha he killed wi\n",
      " the cobbles , or at the rustle of a woman 's dress . But the traveller was onl\n",
      "hant , making home belated ; or some woman of the quarter whose errand was noth\n",
      " in water he hurled at the faithless woman all the insults that have ever been \n",
      "obinson by way of making a Christian woman of her , understood what they were a\n",
      "ght or the left ? The hand of man or woman , of age or youth ? Had it urged the\n",
      " with sobs , all for the desire of a woman in Russian trousers , with slanting \n",
      "- like a dog chasing a cat or an old woman blowing her nose into a red cotton h\n",
      "to talk about -- a dog , a horse , a woman , a game of cards -- seem brutish in\n",
      "out somehow to allude to this humble woman and her milk-pails , when the poet f\n"
     ]
    }
   ],
   "source": [
    "orl.concordance(\"woman\")"
   ]
  },
  {
   "cell_type": "code",
   "execution_count": 53,
   "metadata": {},
   "outputs": [
    {
     "name": "stdout",
     "output_type": "stream",
     "text": [
      "Displaying 25 of 123 matches:\n",
      "charm -- all qualities which the old woman loved the more the more they failed \n",
      "yed her cheeks scarlet . For the old woman loved him . And the Queen , who knew\n",
      "rladen with apples . The old bumboat woman , who was carrying her fruit to mark\n",
      "a figure , which , whether boy 's or woman 's , for the loose tunic and trouser\n",
      " , for alas , a boy it must be -- no woman could skate with such speed and vigo\n",
      "s not a handsbreadth off . She was a woman . Orlando stared ; trembled ; turned\n",
      "mult of emotion , until now ? An old woman , he answered , all skin and bone . \n",
      "e for sea birds and some old country woman hacking at the ice in a vain attempt\n",
      "h their heat , and pity the poor old woman who had no such natural means of tha\n",
      "agan ; of this man 's beard and that woman 's skin ; of a rat that fed from her\n",
      "of melancholy ; the sight of the old woman hobbling over the ice might be the c\n",
      "en waters or night coming or the old woman or whatever it was , and would try t\n",
      "anners were certainly not those of a woman bred in a cattle-shed . What , then \n",
      "st career in the world for a Cossack woman and a waste of snow -- it weighed no\n",
      " arms and vociferating . There was a woman in white laid upon a bed . Rough tho\n",
      "y , and when the Moor suffocated the woman in her bed it was Sasha he killed wi\n",
      " the cobbles , or at the rustle of a woman 's dress . But the traveller was onl\n",
      "hant , making home belated ; or some woman of the quarter whose errand was noth\n",
      " in water he hurled at the faithless woman all the insults that have ever been \n",
      "obinson by way of making a Christian woman of her , understood what they were a\n",
      "ght or the left ? The hand of man or woman , of age or youth ? Had it urged the\n",
      " with sobs , all for the desire of a woman in Russian trousers , with slanting \n",
      "- like a dog chasing a cat or an old woman blowing her nose into a red cotton h\n",
      "to talk about -- a dog , a horse , a woman , a game of cards -- seem brutish in\n",
      "out somehow to allude to this humble woman and her milk-pails , when the poet f\n"
     ]
    }
   ],
   "source": [
    "orl.concordance(\"woman\")"
   ]
  },
  {
   "cell_type": "code",
   "execution_count": 56,
   "metadata": {},
   "outputs": [
    {
     "name": "stdout",
     "output_type": "stream",
     "text": [
      "Displaying 25 of 123 matches:\n",
      "charm -- all qualities which the old woman loved the more the more they failed \n",
      "yed her cheeks scarlet . For the old woman loved him . And the Queen , who knew\n",
      "rladen with apples . The old bumboat woman , who was carrying her fruit to mark\n",
      "a figure , which , whether boy 's or woman 's , for the loose tunic and trouser\n",
      " , for alas , a boy it must be -- no woman could skate with such speed and vigo\n",
      "s not a handsbreadth off . She was a woman . Orlando stared ; trembled ; turned\n",
      "mult of emotion , until now ? An old woman , he answered , all skin and bone . \n",
      "e for sea birds and some old country woman hacking at the ice in a vain attempt\n",
      "h their heat , and pity the poor old woman who had no such natural means of tha\n",
      "agan ; of this man 's beard and that woman 's skin ; of a rat that fed from her\n",
      "of melancholy ; the sight of the old woman hobbling over the ice might be the c\n",
      "en waters or night coming or the old woman or whatever it was , and would try t\n",
      "anners were certainly not those of a woman bred in a cattle-shed . What , then \n",
      "st career in the world for a Cossack woman and a waste of snow -- it weighed no\n",
      " arms and vociferating . There was a woman in white laid upon a bed . Rough tho\n",
      "y , and when the Moor suffocated the woman in her bed it was Sasha he killed wi\n",
      " the cobbles , or at the rustle of a woman 's dress . But the traveller was onl\n",
      "hant , making home belated ; or some woman of the quarter whose errand was noth\n",
      " in water he hurled at the faithless woman all the insults that have ever been \n",
      "obinson by way of making a Christian woman of her , understood what they were a\n",
      "ght or the left ? The hand of man or woman , of age or youth ? Had it urged the\n",
      " with sobs , all for the desire of a woman in Russian trousers , with slanting \n",
      "- like a dog chasing a cat or an old woman blowing her nose into a red cotton h\n",
      "to talk about -- a dog , a horse , a woman , a game of cards -- seem brutish in\n",
      "out somehow to allude to this humble woman and her milk-pails , when the poet f\n"
     ]
    }
   ],
   "source": [
    "# trying to write the output of the concordance to a file... doesn't work\n",
    "output_file = open('output.txt', 'w')\n",
    "words = str(orl.concordance(\"woman\"))\n",
    "for word in words:\n",
    "    output_file.write(word + \"\\n\")"
   ]
  },
  {
   "cell_type": "code",
   "execution_count": 54,
   "metadata": {},
   "outputs": [
    {
     "name": "stdout",
     "output_type": "stream",
     "text": [
      "Displaying 25 of 130 matches:\n",
      "nt of him , sat a rather fat , shabby man , whose ruff was a thought dirty , an\n",
      "oets and poetry -- but how speak to a man who does not see you ? who sees ogres\n",
      "d ? So Orlando stood gazing while the man turned his pen in his fingers , this \n",
      "she would pierce his soul . The young man withstood her gaze blushing only a da\n",
      "oved him . And the Queen , who knew a man when she saw one , though not , it is\n",
      "travels ; of Moor and Pagan ; of this man 's beard and that woman 's skin ; of \n",
      "ad not ventured far when a fine young man started up from some business of his \n",
      " ? The box was heavy , she said ; the man was helping her to move it . Orlando \n",
      "the paw of that hairy sea brute . The man was huge ; stood six feet four in his\n",
      " hall for warmth and be fed by an old man with porridge from a bucket . And the\n",
      "rformance was going forward . A black man was waving his arms and vociferating \n",
      " he thought , cover all . The life of man ends in the grave . Worms devour us .\n",
      "ght was of so inky a blackness that a man was on you before he could be seen , \n",
      "er cloak and trousers , booted like a man . Light as her footfall was , it woul\n",
      "from the downpour that no footfall of man or beast could be heard above it . Th\n",
      " as a house ; others no bigger than a man 's hat , but most fantastically twist\n",
      "thers suckling their babies . One old man seemed to be reading aloud from a hol\n",
      " 'The right or the left ? The hand of man or woman , of age or youth ? Had it u\n",
      "ld sit by himself , reading , a naked man . The disease gained rapidly upon him\n",
      "nd while this is bad enough in a poor man , whose only property is a chair and \n",
      "e , after all -- the plight of a rich man , who has houses and cattle , maidser\n",
      "ght , bluff piece of work of which no man need feel ashamed , our commonest dee\n",
      " the face of that rather fat , shabby man who sat in Twitchett 's room ever so \n",
      "held before him the image of a shabby man with big , bright eyes . Still he loo\n",
      " deeds were dust and ashes , but this man and his words were immortal . He soon\n"
     ]
    }
   ],
   "source": [
    "orl.concordance(\"man\")"
   ]
  },
  {
   "cell_type": "code",
   "execution_count": 57,
   "metadata": {},
   "outputs": [
    {
     "name": "stdout",
     "output_type": "stream",
     "text": [
      "oak tree; Oak Tree; Nick Greene; could see; 'The Oak; Cape Horn; toy\n",
      "boat; hundred years; years ago; Mrs Grimsditch; three hundred; Ben\n",
      "Jonson; Queen Elizabeth; Park Lane; eighteenth century; Queen\n",
      "Victoria; ten minutes; Sir Nicholas; Archduchess Harriet; old woman\n"
     ]
    }
   ],
   "source": [
    "orl.collocations()"
   ]
  },
  {
   "cell_type": "markdown",
   "metadata": {},
   "source": [
    "# generating text"
   ]
  },
  {
   "cell_type": "code",
   "execution_count": 60,
   "metadata": {},
   "outputs": [
    {
     "name": "stderr",
     "output_type": "stream",
     "text": [
      "Building ngram index...\n"
     ]
    },
    {
     "name": "stdout",
     "output_type": "stream",
     "text": [
      "melody of the city lived moved up to the King 's person . , she could\n",
      "not help thinking , one Giles Isham , of love would be at the sky .\n",
      "blessed if she could hear every whisper and crackle in the present is\n",
      "neither a violent disruption nor completely forgotten , and what bones\n",
      "lie beneath them , made his choice . Her illusion revived . they have\n",
      "in Russia ) hung with yellow corn stacks . and lay on the left by a\n",
      "hot fire , damp steals in while we sleep ; but she knew who\n"
     ]
    },
    {
     "data": {
      "text/plain": [
       "\"melody of the city lived moved up to the King 's person . , she could\\nnot help thinking , one Giles Isham , of love would be at the sky .\\nblessed if she could hear every whisper and crackle in the present is\\nneither a violent disruption nor completely forgotten , and what bones\\nlie beneath them , made his choice . Her illusion revived . they have\\nin Russia ) hung with yellow corn stacks . and lay on the left by a\\nhot fire , damp steals in while we sleep ; but she knew who\""
      ]
     },
     "execution_count": 60,
     "metadata": {},
     "output_type": "execute_result"
    }
   ],
   "source": [
    "orl.generate()"
   ]
  },
  {
   "cell_type": "code",
   "execution_count": 59,
   "metadata": {},
   "outputs": [
    {
     "name": "stdout",
     "output_type": "stream",
     "text": [
      "her , Orlando saw dark plumes tossing in the autumn woods ; when the\n",
      "wave rippled and the spotted leaves fell slowly over her head . , my\n",
      "father , shall lead you in . ' Eight . 'Marmaduke Bonthrop Shelmerdine\n",
      "! ' the leopard was still . He was coming , as he always came , in\n",
      "moments of dead calm ; and she saw the waves rippling peacefully in\n",
      "the moonlight . clouds and stood over her foot in the roar of an\n",
      "aeroplane coming nearer and nearer . , curtseying deeply . and nearer\n",
      ". when the\n"
     ]
    },
    {
     "name": "stderr",
     "output_type": "stream",
     "text": [
      "Building ngram index...\n"
     ]
    },
    {
     "data": {
      "text/plain": [
       "\"her , Orlando saw dark plumes tossing in the autumn woods ; when the\\nwave rippled and the spotted leaves fell slowly over her head . , my\\nfather , shall lead you in . ' Eight . 'Marmaduke Bonthrop Shelmerdine\\n! ' the leopard was still . He was coming , as he always came , in\\nmoments of dead calm ; and she saw the waves rippling peacefully in\\nthe moonlight . clouds and stood over her foot in the roar of an\\naeroplane coming nearer and nearer . , curtseying deeply . and nearer\\n. when the\""
      ]
     },
     "execution_count": 59,
     "metadata": {},
     "output_type": "execute_result"
    }
   ],
   "source": [
    "words = \"\"\"'Ecstasy!' she cried, 'ecstasy!' And then the wind sank, the waters grew\n",
    "calm; and she saw the waves rippling peacefully in the moonlight.\n",
    "\n",
    "'Marmaduke Bonthrop Shelmerdine!' she cried, standing by the oak tree.\n",
    "\n",
    "The beautiful, glittering name fell out of the sky like a steel-blue\n",
    "feather. She watched it fall, turning and twisting like a slow-falling\n",
    "arrow that cleaves the deep air beautifully. He was coming, as he always\n",
    "came, in moments of dead calm; when the wave rippled and the spotted\n",
    "leaves fell slowly over her foot in the autumn woods; when the leopard\n",
    "was still; the moon was on the waters, and nothing moved in between sky\n",
    "and sea. Then he came.\n",
    "\n",
    "All was still now. It was near midnight. The moon rose slowly over the\n",
    "weald. Its light raised a phantom castle upon earth. There stood the\n",
    "great house with all its windows robed in silver. Of wall or substance\n",
    "there was none. All was phantom. All was still. All was lit as for the\n",
    "coming of a dead Queen. Gazing below her, Orlando saw dark plumes tossing\n",
    "in the courtyard, and torches flickering and shadows kneeling. A Queen\n",
    "once more stepped from her chariot.\n",
    "\n",
    "'The house is at your service, Ma'am,' she cried, curtseying deeply.\n",
    "'Nothing has been changed. The dead Lord, my father, shall lead you in.'\n",
    "\n",
    "As she spoke, the first stroke of midnight sounded. The cold breeze of\n",
    "the present brushed her face with its little breath of fear. She looked\n",
    "anxiously into the sky. It was dark with clouds now. The wind roared in\n",
    "her ears. But in the roar of the wind she heard the roar of an aeroplane\n",
    "coming nearer and nearer.\n",
    "\n",
    "'Here! Shel, here!' she cried, baring her breast to the moon (which now\n",
    "showed bright) so that her pearls glowed--like the eggs of some vast\n",
    "moon-spider. The aeroplane rushed out of the clouds and stood over her\n",
    "head. It hovered above her. Her pearls burnt like a phosphorescent flare\n",
    "in the darkness.\n",
    "\n",
    "And as Shelmerdine, now grown a fine sea captain, hale, fresh-coloured,\n",
    "and alert, leapt to the ground, there sprang up over his head a single\n",
    "wild bird.\n",
    "\n",
    "'It is the goose!' Orlando cried. 'The wild goose...'\n",
    "\n",
    "And the twelfth stroke of midnight sounded; the twelfth stroke of\n",
    "midnight, Thursday, the eleventh of October, Nineteen hundred and Twenty\n",
    "Eight.\"\"\" \n",
    "tokens = nltk.word_tokenize(words)\n",
    "orl_ending = nltk.Text(tokens)\n",
    "orl_ending.generate()"
   ]
  },
  {
   "cell_type": "code",
   "execution_count": 62,
   "metadata": {},
   "outputs": [
    {
     "ename": "AttributeError",
     "evalue": "'Text' object has no attribute 'context'",
     "output_type": "error",
     "traceback": [
      "\u001b[0;31m---------------------------------------------------------------------------\u001b[0m",
      "\u001b[0;31mAttributeError\u001b[0m                            Traceback (most recent call last)",
      "\u001b[0;32m<ipython-input-62-0088e2a17fb2>\u001b[0m in \u001b[0;36m<module>\u001b[0;34m\u001b[0m\n\u001b[0;32m----> 1\u001b[0;31m \u001b[0morl\u001b[0m\u001b[0;34m.\u001b[0m\u001b[0mcontext\u001b[0m\u001b[0;34m(\u001b[0m\u001b[0;34m\"woman\"\u001b[0m\u001b[0;34m)\u001b[0m\u001b[0;34m\u001b[0m\u001b[0;34m\u001b[0m\u001b[0m\n\u001b[0m",
      "\u001b[0;31mAttributeError\u001b[0m: 'Text' object has no attribute 'context'"
     ]
    }
   ],
   "source": []
  },
  {
   "cell_type": "code",
   "execution_count": null,
   "metadata": {},
   "outputs": [],
   "source": []
  }
 ],
 "metadata": {
  "kernelspec": {
   "display_name": "Python 3",
   "language": "python",
   "name": "python3"
  },
  "language_info": {
   "codemirror_mode": {
    "name": "ipython",
    "version": 3
   },
   "file_extension": ".py",
   "mimetype": "text/x-python",
   "name": "python",
   "nbconvert_exporter": "python",
   "pygments_lexer": "ipython3",
   "version": "3.7.7"
  }
 },
 "nbformat": 4,
 "nbformat_minor": 2
}
