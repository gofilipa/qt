{
 "cells": [
  {
   "cell_type": "code",
   "execution_count": 1,
   "metadata": {},
   "outputs": [],
   "source": [
    "import nltk\n",
    "import matplotlib\n",
    "%matplotlib inline\n",
    "import pandas as pd"
   ]
  },
  {
   "cell_type": "code",
   "execution_count": 2,
   "metadata": {},
   "outputs": [],
   "source": [
    "from urllib.request import urlopen\n",
    "my_url = \"http://gutenberg.net.au/ebooks02/0200331.txt\"\n",
    "file = urlopen(my_url)\n",
    "raw = file.read()\n",
    "orlando = raw.decode()\n",
    "o_tokens = nltk.word_tokenize(orlando)"
   ]
  },
  {
   "cell_type": "code",
   "execution_count": 3,
   "metadata": {},
   "outputs": [],
   "source": [
    "o_text = o_tokens[872:-5]"
   ]
  },
  {
   "cell_type": "code",
   "execution_count": 4,
   "metadata": {},
   "outputs": [],
   "source": [
    "o_tagged =nltk.pos_tag(o_text)"
   ]
  },
  {
   "cell_type": "markdown",
   "metadata": {},
   "source": [
    "# Working with POS (Parts of Speech)"
   ]
  },
  {
   "cell_type": "code",
   "execution_count": 5,
   "metadata": {},
   "outputs": [],
   "source": [
    "# function for finding a pattern of words by inputting two\n",
    "# words and a POS\n",
    "\n",
    "def findPattern(wordList):\n",
    "    word1, word2, tag3 = wordList\n",
    "    theOthers = []\n",
    "    for i, wordTagPair in enumerate(o_tagged):\n",
    "        if i == len(o_tagged) - 3: \n",
    "            break\n",
    "        word, tag = wordTagPair\n",
    "        nextWord, nextTag = o_tagged[i+1]\n",
    "        nextNextWord, nextNextTag = o_tagged[i+2]\n",
    "        if word == word1:\n",
    "            if nextWord == word2:\n",
    "                if nextNextTag == tag3:\n",
    "                    theOthers.append([word, nextWord, nextNextWord])\n",
    "    return theOthers"
   ]
  },
  {
   "cell_type": "code",
   "execution_count": 28,
   "metadata": {},
   "outputs": [
    {
     "data": {
      "text/plain": [
       "[['the', 'other', 'side'],\n",
       " ['the', 'other', 'night'],\n",
       " ['the', 'other', 'way'],\n",
       " ['the', 'other', 'hand'],\n",
       " ['the', 'other', 'side'],\n",
       " ['the', 'other', 'hairy'],\n",
       " ['the', 'other', 'way'],\n",
       " ['the', 'other', 'way'],\n",
       " ['the', 'other', 'sex'],\n",
       " ['the', 'other', 'sex'],\n",
       " ['the', 'other', 'sex'],\n",
       " ['the', 'other', 'day'],\n",
       " ['the', 'other', 'side'],\n",
       " ['the', 'other', 'side'],\n",
       " ['the', 'other', 'way'],\n",
       " ['the', 'other', 'reposing'],\n",
       " ['the', 'other', 'sex'],\n",
       " ['the', 'other', 'lady'],\n",
       " ['the', 'other', 'sex'],\n",
       " ['the', 'other', 'side'],\n",
       " ['the', 'other', 'day'],\n",
       " ['the', 'other', 'day'],\n",
       " ['the', 'other', 'day'],\n",
       " ['the', 'other', 'side']]"
      ]
     },
     "execution_count": 28,
     "metadata": {},
     "output_type": "execute_result"
    }
   ],
   "source": [
    "# run the function with whatever arguments\n",
    "findPattern([\"the\", \"other\", \"NN\"])"
   ]
  },
  {
   "cell_type": "code",
   "execution_count": 30,
   "metadata": {},
   "outputs": [
    {
     "data": {
      "text/plain": [
       "[['women', 'are', 'incapable']]"
      ]
     },
     "execution_count": 30,
     "metadata": {},
     "output_type": "execute_result"
    }
   ],
   "source": [
    "findPattern([\"women\", \"are\", \"JJ\"])"
   ]
  },
  {
   "cell_type": "code",
   "execution_count": 31,
   "metadata": {
    "scrolled": true
   },
   "outputs": [
    {
     "data": {
      "text/plain": [
       "[]"
      ]
     },
     "execution_count": 31,
     "metadata": {},
     "output_type": "execute_result"
    }
   ],
   "source": [
    "findPattern([\"men\", \"are\", \"JJ\"])"
   ]
  },
  {
   "cell_type": "code",
   "execution_count": 37,
   "metadata": {},
   "outputs": [
    {
     "data": {
      "text/plain": [
       "[['Orlando', 'was', 'sound'], ['Orlando', 'was', 'ready']]"
      ]
     },
     "execution_count": 37,
     "metadata": {},
     "output_type": "execute_result"
    }
   ],
   "source": [
    "findPattern([\"Orlando\", \"was\", \"JJ\"])"
   ]
  },
  {
   "cell_type": "code",
   "execution_count": null,
   "metadata": {},
   "outputs": [],
   "source": []
  }
 ],
 "metadata": {
  "kernelspec": {
   "display_name": "Python 3",
   "language": "python",
   "name": "python3"
  },
  "language_info": {
   "codemirror_mode": {
    "name": "ipython",
    "version": 3
   },
   "file_extension": ".py",
   "mimetype": "text/x-python",
   "name": "python",
   "nbconvert_exporter": "python",
   "pygments_lexer": "ipython3",
   "version": "3.7.7"
  }
 },
 "nbformat": 4,
 "nbformat_minor": 4
}
