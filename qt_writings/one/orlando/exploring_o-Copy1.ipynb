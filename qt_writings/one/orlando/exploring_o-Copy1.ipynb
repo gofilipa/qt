{
 "cells": [
  {
   "cell_type": "code",
   "execution_count": 1,
   "metadata": {},
   "outputs": [],
   "source": [
    "import nltk\n",
    "import matplotlib\n",
    "%matplotlib inline\n",
    "import networkx\n",
    "# import pandas as pd"
   ]
  },
  {
   "cell_type": "code",
   "execution_count": 2,
   "metadata": {},
   "outputs": [],
   "source": [
    "from urllib.request import urlopen\n",
    "my_url = \"http://gutenberg.net.au/ebooks02/0200331.txt\"\n",
    "file = urlopen(my_url)\n",
    "raw = file.read()\n",
    "orlando = raw.decode()\n",
    "o_tokens = nltk.word_tokenize(orlando)"
   ]
  },
  {
   "cell_type": "code",
   "execution_count": 3,
   "metadata": {},
   "outputs": [],
   "source": [
    "o_text = o_tokens[872:-5]"
   ]
  },
  {
   "cell_type": "code",
   "execution_count": 4,
   "metadata": {},
   "outputs": [
    {
     "data": {
      "text/plain": [
       "<Text: He -- for there could be no doubt...>"
      ]
     },
     "execution_count": 4,
     "metadata": {},
     "output_type": "execute_result"
    }
   ],
   "source": [
    "orl = nltk.Text(o_text)\n",
    "orl"
   ]
  },
  {
   "cell_type": "markdown",
   "metadata": {},
   "source": [
    "# cleaning the text (caps, punct, stops)"
   ]
  },
  {
   "cell_type": "code",
   "execution_count": 5,
   "metadata": {},
   "outputs": [
    {
     "data": {
      "text/plain": [
       "['He',\n",
       " '--',\n",
       " 'for',\n",
       " 'there',\n",
       " 'could',\n",
       " 'be',\n",
       " 'no',\n",
       " 'doubt',\n",
       " 'of',\n",
       " 'his',\n",
       " 'sex',\n",
       " ',',\n",
       " 'though',\n",
       " 'the',\n",
       " 'fashion',\n",
       " 'of',\n",
       " 'the',\n",
       " 'time',\n",
       " 'did',\n",
       " 'something',\n",
       " 'to',\n",
       " 'disguise',\n",
       " 'it',\n",
       " '--',\n",
       " 'was',\n",
       " 'in',\n",
       " 'the',\n",
       " 'act',\n",
       " 'of',\n",
       " 'slicing',\n",
       " 'at',\n",
       " 'the',\n",
       " 'head',\n",
       " 'of',\n",
       " 'a',\n",
       " 'Moor',\n",
       " 'which',\n",
       " 'swung',\n",
       " 'from',\n",
       " 'the',\n",
       " 'rafters']"
      ]
     },
     "execution_count": 5,
     "metadata": {},
     "output_type": "execute_result"
    }
   ],
   "source": [
    "orl[:41]"
   ]
  },
  {
   "cell_type": "code",
   "execution_count": 6,
   "metadata": {},
   "outputs": [],
   "source": [
    "# lowercasing and removing punct\n",
    "lower_no_punct = []\n",
    "for word in orl:\n",
    "    if word.isalpha():\n",
    "        lower_no_punct.append(word.lower())"
   ]
  },
  {
   "cell_type": "code",
   "execution_count": 7,
   "metadata": {},
   "outputs": [],
   "source": [
    "from nltk.corpus import stopwords\n",
    "stops = stopwords.words('english')\n",
    "# removing stops\n",
    "no_stops = [word for word in lower_no_punct if word not in stops]"
   ]
  },
  {
   "cell_type": "code",
   "execution_count": 8,
   "metadata": {},
   "outputs": [
    {
     "data": {
      "text/plain": [
       "['could',\n",
       " 'doubt',\n",
       " 'sex',\n",
       " 'though',\n",
       " 'fashion',\n",
       " 'time',\n",
       " 'something',\n",
       " 'disguise',\n",
       " 'act',\n",
       " 'slicing']"
      ]
     },
     "execution_count": 8,
     "metadata": {},
     "output_type": "execute_result"
    }
   ],
   "source": [
    "no_stops[:10]"
   ]
  },
  {
   "cell_type": "code",
   "execution_count": 9,
   "metadata": {},
   "outputs": [
    {
     "data": {
      "text/plain": [
       "'slicing'"
      ]
     },
     "execution_count": 9,
     "metadata": {},
     "output_type": "execute_result"
    }
   ],
   "source": [
    "# lemmatizing\n",
    "from nltk.stem import WordNetLemmatizer\n",
    "wordnet_lemmatizer = WordNetLemmatizer()\n",
    "wordnet_lemmatizer.lemmatize(\"slicings\")"
   ]
  },
  {
   "cell_type": "code",
   "execution_count": 10,
   "metadata": {},
   "outputs": [
    {
     "data": {
      "text/plain": [
       "['could',\n",
       " 'doubt',\n",
       " 'sex',\n",
       " 'though',\n",
       " 'fashion',\n",
       " 'time',\n",
       " 'something',\n",
       " 'disguise',\n",
       " 'act',\n",
       " 'slicing',\n",
       " 'head',\n",
       " 'moor',\n",
       " 'swung',\n",
       " 'rafter',\n",
       " 'colour',\n",
       " 'old',\n",
       " 'football',\n",
       " 'le',\n",
       " 'shape',\n",
       " 'one',\n",
       " 'save',\n",
       " 'sunken',\n",
       " 'cheek',\n",
       " 'strand',\n",
       " 'two',\n",
       " 'coarse',\n",
       " 'dry',\n",
       " 'hair',\n",
       " 'like',\n",
       " 'hair']"
      ]
     },
     "execution_count": 10,
     "metadata": {},
     "output_type": "execute_result"
    }
   ],
   "source": [
    "clean_text = []\n",
    "for word in no_stops:\n",
    "    word_lem = wordnet_lemmatizer.lemmatize(word)\n",
    "    clean_text.append(word_lem)\n",
    "    \n",
    "clean_text[:30]"
   ]
  },
  {
   "cell_type": "code",
   "execution_count": 11,
   "metadata": {},
   "outputs": [],
   "source": [
    "orl = clean_text"
   ]
  },
  {
   "cell_type": "markdown",
   "metadata": {},
   "source": [
    "# similar words, first level\n",
    "\n",
    "to compute distinctive similarity, we:\n",
    "- make a list of words similar to \"man\" or \"woman\" using Text.similar()\n",
    "- find words similar to those words\n",
    "- filter out the words that are shared among the two lists\n",
    "- repeat as needed\n"
   ]
  },
  {
   "cell_type": "code",
   "execution_count": 12,
   "metadata": {},
   "outputs": [
    {
     "data": {
      "text/plain": [
       "['reached',\n",
       " 'till',\n",
       " 'friend',\n",
       " 'word',\n",
       " 'moment',\n",
       " 'saw',\n",
       " 'always',\n",
       " 'could',\n",
       " 'cried',\n",
       " 'sailor',\n",
       " 'wit',\n",
       " 'scarcely',\n",
       " 'petticoat',\n",
       " 'go',\n",
       " 'servant',\n",
       " 'conclusion']"
      ]
     },
     "execution_count": 12,
     "metadata": {},
     "output_type": "execute_result"
    }
   ],
   "source": [
    "# to make these lists of distictive similar words automatically, \n",
    "# use ContextIndex class\n",
    "idx = nltk.text.ContextIndex(orl)\n",
    "# put words similar to woman in a list\n",
    "woman_sim_1 = idx.similar_words(\"woman\")\n",
    "woman_sim_1\n",
    "# woman_sim_1_str = \" \".join(woman_sim_1)\n",
    "# woman_sim_1_str"
   ]
  },
  {
   "cell_type": "code",
   "execution_count": 13,
   "metadata": {},
   "outputs": [
    {
     "data": {
      "text/plain": [
       "'hurry father window tongue carriage still even countrywoman indulged old fortune title ship writing fell become always love grown never'"
      ]
     },
     "execution_count": 13,
     "metadata": {},
     "output_type": "execute_result"
    }
   ],
   "source": [
    "# put words similar to man in a list\n",
    "man_sim_1 = idx.similar_words(\"man\")\n",
    "man_sim_1\n",
    "man_sim_1_str = \" \".join(man_sim_1)\n",
    "man_sim_1_str"
   ]
  },
  {
   "cell_type": "code",
   "execution_count": 14,
   "metadata": {},
   "outputs": [
    {
     "data": {
      "text/plain": [
       "['reached',\n",
       " 'till',\n",
       " 'friend',\n",
       " 'word',\n",
       " 'moment',\n",
       " 'saw',\n",
       " 'could',\n",
       " 'cried',\n",
       " 'sailor',\n",
       " 'wit',\n",
       " 'scarcely',\n",
       " 'petticoat',\n",
       " 'go',\n",
       " 'servant',\n",
       " 'conclusion']"
      ]
     },
     "execution_count": 14,
     "metadata": {},
     "output_type": "execute_result"
    }
   ],
   "source": [
    "# loops through woman similar and filters out words shared with man similar\n",
    "woman_disc_1 = []\n",
    "for word in woman_sim_1:\n",
    "    if word not in man_sim_1:\n",
    "        woman_disc_1.append(word)\n",
    "woman_disc_1"
   ]
  },
  {
   "cell_type": "code",
   "execution_count": 15,
   "metadata": {},
   "outputs": [
    {
     "data": {
      "text/plain": [
       "['hurry',\n",
       " 'father',\n",
       " 'window',\n",
       " 'tongue',\n",
       " 'carriage',\n",
       " 'still',\n",
       " 'even',\n",
       " 'countrywoman',\n",
       " 'indulged',\n",
       " 'old',\n",
       " 'fortune',\n",
       " 'title',\n",
       " 'ship',\n",
       " 'writing',\n",
       " 'fell',\n",
       " 'become',\n",
       " 'love',\n",
       " 'grown',\n",
       " 'never']"
      ]
     },
     "execution_count": 15,
     "metadata": {},
     "output_type": "execute_result"
    }
   ],
   "source": [
    "# loops through man similar and filters out words shared with woman similar\n",
    "man_disc_1 = []\n",
    "for word in man_sim_1:\n",
    "    if word not in woman_sim_1:\n",
    "        man_disc_1.append(word)\n",
    "man_disc_1"
   ]
  },
  {
   "cell_type": "markdown",
   "metadata": {},
   "source": [
    "# similar words, second level"
   ]
  },
  {
   "cell_type": "code",
   "execution_count": 16,
   "metadata": {},
   "outputs": [
    {
     "data": {
      "text/plain": [
       "[['woman', 'till'],\n",
       " ['woman', 'reached'],\n",
       " ['word', 'woman'],\n",
       " ['friend', 'woman', 'time', 'dog', 'window', 'roused'],\n",
       " ['explain',\n",
       "  'thing',\n",
       "  'another',\n",
       "  'mixture',\n",
       "  'toss',\n",
       "  'way',\n",
       "  'window',\n",
       "  'first',\n",
       "  'woman'],\n",
       " ['always', 'woman', 'met', 'madam', 'stood'],\n",
       " ['become', 'love', 'man', 'grown', 'saw', 'woman'],\n",
       " ['might',\n",
       "  'used',\n",
       "  'understood',\n",
       "  'prophet',\n",
       "  'bird',\n",
       "  'thought',\n",
       "  'come',\n",
       "  'shape',\n",
       "  'none',\n",
       "  'would',\n",
       "  'woman',\n",
       "  'cried',\n",
       "  'allied',\n",
       "  'known',\n",
       "  'laughing',\n",
       "  'fool'],\n",
       " ['london', 'woman', 'could', 'ran'],\n",
       " ['wit', 'woman'],\n",
       " ['able', 'happiness', 'wisdom', 'sailor', 'woman', 'say'],\n",
       " ['woman', 'petticoat', 'indeed'],\n",
       " ['scarcely', 'woman'],\n",
       " ['woman', 'encumbrance', 'account', 'fly', 'leave', 'rust', 'make', 'sake'],\n",
       " ['woman', 'year'],\n",
       " ['woman']]"
      ]
     },
     "execution_count": 16,
     "metadata": {},
     "output_type": "execute_result"
    }
   ],
   "source": [
    "# loop that computes similar words for each word from woman_sim_1\n",
    "woman_sim_2_nested = []\n",
    "for word in woman_sim_1:\n",
    "    woman_sim_2_nested.append(idx.similar_words(word)) # this returns nested lists\n",
    "\n",
    "woman_sim_2_nested\n",
    "\n",
    "# list comprehension that flattens nested list\n",
    "# woman_sim_2 = [inner\n",
    "#     for outer in woman_sim_2_nested\n",
    "#         for inner in outer]\n",
    "\n",
    "# woman_sim_2_str =\" \".join(set(woman_sim_2))\n",
    "# woman_sim_2_str"
   ]
  },
  {
   "cell_type": "code",
   "execution_count": 17,
   "metadata": {},
   "outputs": [],
   "source": [
    "import pandas as pd"
   ]
  },
  {
   "cell_type": "code",
   "execution_count": 18,
   "metadata": {},
   "outputs": [
    {
     "data": {
      "text/plain": [
       "0        reached\n",
       "1           till\n",
       "2         friend\n",
       "3           word\n",
       "4         moment\n",
       "5            saw\n",
       "6          could\n",
       "7          cried\n",
       "8         sailor\n",
       "9            wit\n",
       "10      scarcely\n",
       "11     petticoat\n",
       "12            go\n",
       "13       servant\n",
       "14    conclusion\n",
       "dtype: object"
      ]
     },
     "execution_count": 18,
     "metadata": {},
     "output_type": "execute_result"
    }
   ],
   "source": [
    "woman = pd.Series(woman_disc_1)\n",
    "woman"
   ]
  },
  {
   "cell_type": "code",
   "execution_count": 19,
   "metadata": {},
   "outputs": [
    {
     "data": {
      "text/plain": [
       "count          15\n",
       "unique         15\n",
       "top       reached\n",
       "freq            1\n",
       "dtype: object"
      ]
     },
     "execution_count": 19,
     "metadata": {},
     "output_type": "execute_result"
    }
   ],
   "source": [
    "woman.describe()"
   ]
  },
  {
   "cell_type": "code",
   "execution_count": 20,
   "metadata": {},
   "outputs": [
    {
     "ename": "NameError",
     "evalue": "name 'woman_sim_2' is not defined",
     "output_type": "error",
     "traceback": [
      "\u001b[0;31m---------------------------------------------------------------------------\u001b[0m",
      "\u001b[0;31mNameError\u001b[0m                                 Traceback (most recent call last)",
      "\u001b[0;32m<ipython-input-20-3253e8f2daf4>\u001b[0m in \u001b[0;36m<module>\u001b[0;34m\u001b[0m\n\u001b[0;32m----> 1\u001b[0;31m \u001b[0mlen\u001b[0m\u001b[0;34m(\u001b[0m\u001b[0mset\u001b[0m\u001b[0;34m(\u001b[0m\u001b[0mwoman_sim_2\u001b[0m\u001b[0;34m)\u001b[0m\u001b[0;34m)\u001b[0m\u001b[0;34m\u001b[0m\u001b[0;34m\u001b[0m\u001b[0m\n\u001b[0m",
      "\u001b[0;31mNameError\u001b[0m: name 'woman_sim_2' is not defined"
     ]
    }
   ],
   "source": [
    "len(set(woman_sim_2))"
   ]
  },
  {
   "cell_type": "code",
   "execution_count": null,
   "metadata": {},
   "outputs": [],
   "source": [
    "# creating a loop to find similar words to man_sim_1\n",
    "man_sim_2_nested = []\n",
    "for word in man_sim_1:\n",
    "    man_sim_2_nested.append(idx.similar_words(word))\n",
    "man_sim_2_nested\n",
    "\n",
    "# collapsing the nested list\n",
    "man_sim_2 = [inner\n",
    "    for outer in man_sim_2_nested\n",
    "        for inner in outer]\n",
    "\n",
    "man_sim_2_str =\" \".join(set(man_sim_2))\n",
    "man_sim_2_str"
   ]
  },
  {
   "cell_type": "code",
   "execution_count": null,
   "metadata": {},
   "outputs": [],
   "source": [
    "len(set(man_sim_2))"
   ]
  },
  {
   "cell_type": "code",
   "execution_count": null,
   "metadata": {},
   "outputs": [],
   "source": [
    "len(man_sim_2)"
   ]
  },
  {
   "cell_type": "code",
   "execution_count": null,
   "metadata": {},
   "outputs": [],
   "source": [
    "# loops through woman similar and filters out words shared with man similar\n",
    "woman_disc_2 = []\n",
    "for word in woman_sim_2:\n",
    "    if word not in man_sim_2:\n",
    "        woman_disc_2.append(word)\n",
    "woman_disc_2"
   ]
  },
  {
   "cell_type": "code",
   "execution_count": null,
   "metadata": {},
   "outputs": [],
   "source": [
    "len(set(woman_disc_2))"
   ]
  },
  {
   "cell_type": "code",
   "execution_count": null,
   "metadata": {},
   "outputs": [],
   "source": [
    "# loops through woman similar and filters out words shared with man similar\n",
    "man_disc_2 = []\n",
    "for word in man_sim_2:\n",
    "    if word not in woman_sim_2:\n",
    "        man_disc_2.append(word)\n",
    "man_disc_2"
   ]
  },
  {
   "cell_type": "markdown",
   "metadata": {},
   "source": [
    "# Third Level"
   ]
  },
  {
   "cell_type": "code",
   "execution_count": null,
   "metadata": {},
   "outputs": [],
   "source": [
    "# 3rd level words similar to woman_disc_2\n",
    "woman_sim_3_nested = []\n",
    "for word in woman_sim_2:\n",
    "    woman_sim_3_nested.append(idx.similar_words(word)) # this returns nested lists\n",
    "\n",
    "# list comprehension that flattens nested list\n",
    "woman_sim_3 = [inner\n",
    "    for outer in woman_sim_3_nested\n",
    "        for inner in outer]\n",
    "\n",
    "woman_sim_3"
   ]
  },
  {
   "cell_type": "code",
   "execution_count": null,
   "metadata": {},
   "outputs": [],
   "source": [
    "# 3rd level words similar to man_disc_2\n",
    "man_sim_3_nested = []\n",
    "for word in man_sim_2:\n",
    "    man_sim_3_nested.append(idx.similar_words(word)) # this returns nested lists\n",
    "\n",
    "# list comprehension that flattens nested list\n",
    "man_sim_3 = [inner\n",
    "    for outer in man_sim_3_nested\n",
    "        for inner in outer]\n",
    "\n",
    "man_sim_3"
   ]
  },
  {
   "cell_type": "code",
   "execution_count": null,
   "metadata": {},
   "outputs": [],
   "source": [
    "# loops through woman similar and filters out words shared with man similar\n",
    "woman_disc_3 = []\n",
    "for word in woman_sim_3:\n",
    "    if word not in man_sim_3:\n",
    "        woman_disc_3.append(word)\n",
    "woman_disc_3"
   ]
  },
  {
   "cell_type": "code",
   "execution_count": null,
   "metadata": {},
   "outputs": [],
   "source": [
    "# loops through woman similar and filters out words shared with man similar\n",
    "man_disc_3 = []\n",
    "for word in man_sim_3:\n",
    "    if word not in woman_sim_3:\n",
    "        man_disc_3.append(word)\n",
    "man_disc_3"
   ]
  },
  {
   "cell_type": "code",
   "execution_count": null,
   "metadata": {},
   "outputs": [],
   "source": [
    "set(woman_disc_3)"
   ]
  },
  {
   "cell_type": "code",
   "execution_count": null,
   "metadata": {},
   "outputs": [],
   "source": [
    "woman_disc3_str = \" \".join(set(woman_disc_3))\n",
    "woman_disc3_str"
   ]
  },
  {
   "cell_type": "code",
   "execution_count": null,
   "metadata": {},
   "outputs": [],
   "source": [
    "man_disc3_str = \" \".join(set(man_disc_3))\n",
    "man_disc3_str"
   ]
  },
  {
   "cell_type": "markdown",
   "metadata": {},
   "source": [
    "# working with pandas"
   ]
  },
  {
   "cell_type": "code",
   "execution_count": null,
   "metadata": {},
   "outputs": [],
   "source": [
    "# now I want to think about ways of exploring this data. \n",
    "# make it into a series? a dataframe? \n",
    "\n",
    "https://towardsdatascience.com/from-dataframe-to-network-graph-bbb35c8ab675"
   ]
  },
  {
   "cell_type": "code",
   "execution_count": null,
   "metadata": {},
   "outputs": [],
   "source": []
  }
 ],
 "metadata": {
  "kernelspec": {
   "display_name": "Python 3",
   "language": "python",
   "name": "python3"
  },
  "language_info": {
   "codemirror_mode": {
    "name": "ipython",
    "version": 3
   },
   "file_extension": ".py",
   "mimetype": "text/x-python",
   "name": "python",
   "nbconvert_exporter": "python",
   "pygments_lexer": "ipython3",
   "version": "3.7.7"
  }
 },
 "nbformat": 4,
 "nbformat_minor": 4
}
