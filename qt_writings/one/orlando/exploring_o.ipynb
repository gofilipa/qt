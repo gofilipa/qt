{
 "cells": [
  {
   "cell_type": "code",
   "execution_count": 1,
   "metadata": {},
   "outputs": [],
   "source": [
    "import nltk\n",
    "import matplotlib\n",
    "%matplotlib inline\n",
    "import networkx\n",
    "import pandas as pd"
   ]
  },
  {
   "cell_type": "code",
   "execution_count": 2,
   "metadata": {},
   "outputs": [],
   "source": [
    "from urllib.request import urlopen\n",
    "my_url = \"http://gutenberg.net.au/ebooks02/0200331.txt\"\n",
    "file = urlopen(my_url)\n",
    "raw = file.read()\n",
    "orlando = raw.decode()\n",
    "o_tokens = nltk.word_tokenize(orlando)"
   ]
  },
  {
   "cell_type": "code",
   "execution_count": 3,
   "metadata": {},
   "outputs": [
    {
     "data": {
      "text/plain": [
       "<Text: He -- for there could be no doubt...>"
      ]
     },
     "execution_count": 3,
     "metadata": {},
     "output_type": "execute_result"
    }
   ],
   "source": [
    "o_text = o_tokens[872:-5]\n",
    "orl = nltk.Text(o_text)\n",
    "orl"
   ]
  },
  {
   "cell_type": "code",
   "execution_count": 4,
   "metadata": {},
   "outputs": [
    {
     "name": "stdout",
     "output_type": "stream",
     "text": [
      "Displaying 25 of 123 matches:\n",
      "charm -- all qualities which the old woman loved the more the more they failed \n",
      "yed her cheeks scarlet . For the old woman loved him . And the Queen , who knew\n",
      "rladen with apples . The old bumboat woman , who was carrying her fruit to mark\n",
      "a figure , which , whether boy 's or woman 's , for the loose tunic and trouser\n",
      " , for alas , a boy it must be -- no woman could skate with such speed and vigo\n",
      "s not a handsbreadth off . She was a woman . Orlando stared ; trembled ; turned\n",
      "mult of emotion , until now ? An old woman , he answered , all skin and bone . \n",
      "e for sea birds and some old country woman hacking at the ice in a vain attempt\n",
      "h their heat , and pity the poor old woman who had no such natural means of tha\n",
      "agan ; of this man 's beard and that woman 's skin ; of a rat that fed from her\n",
      "of melancholy ; the sight of the old woman hobbling over the ice might be the c\n",
      "en waters or night coming or the old woman or whatever it was , and would try t\n",
      "anners were certainly not those of a woman bred in a cattle-shed . What , then \n",
      "st career in the world for a Cossack woman and a waste of snow -- it weighed no\n",
      " arms and vociferating . There was a woman in white laid upon a bed . Rough tho\n",
      "y , and when the Moor suffocated the woman in her bed it was Sasha he killed wi\n",
      " the cobbles , or at the rustle of a woman 's dress . But the traveller was onl\n",
      "hant , making home belated ; or some woman of the quarter whose errand was noth\n",
      " in water he hurled at the faithless woman all the insults that have ever been \n",
      "obinson by way of making a Christian woman of her , understood what they were a\n",
      "ght or the left ? The hand of man or woman , of age or youth ? Had it urged the\n",
      " with sobs , all for the desire of a woman in Russian trousers , with slanting \n",
      "- like a dog chasing a cat or an old woman blowing her nose into a red cotton h\n",
      "to talk about -- a dog , a horse , a woman , a game of cards -- seem brutish in\n",
      "out somehow to allude to this humble woman and her milk-pails , when the poet f\n"
     ]
    }
   ],
   "source": [
    "orl.concordance(\"woman\")"
   ]
  },
  {
   "cell_type": "code",
   "execution_count": 5,
   "metadata": {},
   "outputs": [
    {
     "name": "stdout",
     "output_type": "stream",
     "text": [
      "man moment night boy word world child pen ship door one room window\n",
      "light little lady table book queen king\n"
     ]
    }
   ],
   "source": [
    "orl.similar(\"woman\")"
   ]
  },
  {
   "cell_type": "markdown",
   "metadata": {},
   "source": [
    "# cleaning the text (caps, punct, stops)"
   ]
  },
  {
   "cell_type": "code",
   "execution_count": 6,
   "metadata": {},
   "outputs": [],
   "source": [
    "# lowercasing and removing punct\n",
    "lower_no_punct = []\n",
    "for word in orl:\n",
    "    if word.isalpha():\n",
    "        lower_no_punct.append(word.lower())"
   ]
  },
  {
   "cell_type": "code",
   "execution_count": 7,
   "metadata": {},
   "outputs": [],
   "source": [
    "# removing stopwords\n",
    "from nltk.corpus import stopwords\n",
    "stops = stopwords.words('english')\n",
    "no_stops = [word for word in lower_no_punct if word not in stops]"
   ]
  },
  {
   "cell_type": "code",
   "execution_count": 8,
   "metadata": {},
   "outputs": [],
   "source": [
    "# lemmatizing\n",
    "from nltk.stem import WordNetLemmatizer\n",
    "wordnet_lemmatizer = WordNetLemmatizer()\n",
    "clean_text = []\n",
    "for word in no_stops:\n",
    "    word_lem = wordnet_lemmatizer.lemmatize(word)\n",
    "    clean_text.append(word_lem)"
   ]
  },
  {
   "cell_type": "code",
   "execution_count": 9,
   "metadata": {},
   "outputs": [],
   "source": [
    "orl = clean_text"
   ]
  },
  {
   "cell_type": "markdown",
   "metadata": {},
   "source": [
    "# similar words, first level\n",
    "\n",
    "to compute distinctive similarity, we:\n",
    "- make a list of words similar to \"man\" or \"woman\" using Text.similar()\n",
    "- find words similar to those words\n",
    "- filter out the words that are shared among the two lists\n",
    "- repeat as needed\n"
   ]
  },
  {
   "cell_type": "code",
   "execution_count": 12,
   "metadata": {},
   "outputs": [
    {
     "data": {
      "text/plain": [
       "['reached',\n",
       " 'till',\n",
       " 'friend',\n",
       " 'word',\n",
       " 'moment',\n",
       " 'saw',\n",
       " 'always',\n",
       " 'could',\n",
       " 'cried',\n",
       " 'sailor',\n",
       " 'wit',\n",
       " 'scarcely',\n",
       " 'petticoat',\n",
       " 'go',\n",
       " 'servant',\n",
       " 'conclusion']"
      ]
     },
     "execution_count": 12,
     "metadata": {},
     "output_type": "execute_result"
    }
   ],
   "source": [
    "# making list of similar words using ContextIndex class\n",
    "idx = nltk.text.ContextIndex(orl)\n",
    "# put words similar to 'woman' in a list\n",
    "woman_sim_1 = idx.similar_words(\"woman\")\n",
    "woman_sim_1"
   ]
  },
  {
   "cell_type": "code",
   "execution_count": 9,
   "metadata": {},
   "outputs": [
    {
     "data": {
      "text/plain": [
       "['hurry',\n",
       " 'father',\n",
       " 'window',\n",
       " 'tongue',\n",
       " 'carriage',\n",
       " 'still',\n",
       " 'even',\n",
       " 'countrywoman',\n",
       " 'indulged',\n",
       " 'old',\n",
       " 'fortune',\n",
       " 'title',\n",
       " 'ship',\n",
       " 'writing',\n",
       " 'fell',\n",
       " 'become',\n",
       " 'always',\n",
       " 'love',\n",
       " 'grown',\n",
       " 'never']"
      ]
     },
     "execution_count": 9,
     "metadata": {},
     "output_type": "execute_result"
    }
   ],
   "source": [
    "# put words similar to man in a list\n",
    "man_sim_1 = idx.similar_words(\"man\")\n",
    "man_sim_1"
   ]
  },
  {
   "cell_type": "code",
   "execution_count": 10,
   "metadata": {},
   "outputs": [
    {
     "data": {
      "text/plain": [
       "['reached',\n",
       " 'till',\n",
       " 'friend',\n",
       " 'word',\n",
       " 'moment',\n",
       " 'saw',\n",
       " 'could',\n",
       " 'cried',\n",
       " 'sailor',\n",
       " 'wit',\n",
       " 'scarcely',\n",
       " 'petticoat',\n",
       " 'go',\n",
       " 'servant',\n",
       " 'conclusion']"
      ]
     },
     "execution_count": 10,
     "metadata": {},
     "output_type": "execute_result"
    }
   ],
   "source": [
    "# loops through woman similar and filters out words shared with man similar\n",
    "woman_disc_1 = []\n",
    "for word in woman_sim_1:\n",
    "    if word not in man_sim_1:\n",
    "        woman_disc_1.append(word)\n",
    "woman_disc_1"
   ]
  },
  {
   "cell_type": "code",
   "execution_count": 11,
   "metadata": {},
   "outputs": [
    {
     "data": {
      "text/plain": [
       "['hurry',\n",
       " 'father',\n",
       " 'window',\n",
       " 'tongue',\n",
       " 'carriage',\n",
       " 'still',\n",
       " 'even',\n",
       " 'countrywoman',\n",
       " 'indulged',\n",
       " 'old',\n",
       " 'fortune',\n",
       " 'title',\n",
       " 'ship',\n",
       " 'writing',\n",
       " 'fell',\n",
       " 'become',\n",
       " 'love',\n",
       " 'grown',\n",
       " 'never']"
      ]
     },
     "execution_count": 11,
     "metadata": {},
     "output_type": "execute_result"
    }
   ],
   "source": [
    "# loops through man similar and filters out words shared with woman similar\n",
    "man_disc_1 = []\n",
    "for word in man_sim_1:\n",
    "    if word not in woman_sim_1:\n",
    "        man_disc_1.append(word)\n",
    "man_disc_1"
   ]
  },
  {
   "cell_type": "markdown",
   "metadata": {},
   "source": [
    "# second level"
   ]
  },
  {
   "cell_type": "code",
   "execution_count": 12,
   "metadata": {},
   "outputs": [
    {
     "data": {
      "text/plain": [
       "0        reached\n",
       "1           till\n",
       "2         friend\n",
       "3           word\n",
       "4         moment\n",
       "5            saw\n",
       "6          could\n",
       "7          cried\n",
       "8         sailor\n",
       "9            wit\n",
       "10      scarcely\n",
       "11     petticoat\n",
       "12            go\n",
       "13       servant\n",
       "14    conclusion\n",
       "dtype: object"
      ]
     },
     "execution_count": 12,
     "metadata": {},
     "output_type": "execute_result"
    }
   ],
   "source": [
    "s = pd.Series(woman_disc_1)\n",
    "s"
   ]
  },
  {
   "cell_type": "markdown",
   "metadata": {},
   "source": [
    "## nodes of second level 'woman'"
   ]
  },
  {
   "cell_type": "code",
   "execution_count": 13,
   "metadata": {},
   "outputs": [
    {
     "data": {
      "text/plain": [
       "[['woman', 'till'],\n",
       " ['woman', 'reached'],\n",
       " ['word', 'woman'],\n",
       " ['friend', 'woman', 'time', 'dog', 'window', 'roused'],\n",
       " ['explain',\n",
       "  'thing',\n",
       "  'another',\n",
       "  'mixture',\n",
       "  'toss',\n",
       "  'way',\n",
       "  'window',\n",
       "  'first',\n",
       "  'woman'],\n",
       " ['always', 'woman', 'met', 'madam', 'stood'],\n",
       " ['might',\n",
       "  'used',\n",
       "  'understood',\n",
       "  'prophet',\n",
       "  'bird',\n",
       "  'thought',\n",
       "  'come',\n",
       "  'shape',\n",
       "  'none',\n",
       "  'would',\n",
       "  'woman',\n",
       "  'cried',\n",
       "  'allied',\n",
       "  'known',\n",
       "  'laughing',\n",
       "  'fool'],\n",
       " ['london', 'woman', 'could', 'ran'],\n",
       " ['wit', 'woman'],\n",
       " ['able', 'happiness', 'wisdom', 'sailor', 'woman', 'say'],\n",
       " ['woman', 'petticoat', 'indeed'],\n",
       " ['scarcely', 'woman'],\n",
       " ['woman', 'encumbrance', 'account', 'fly', 'leave', 'rust', 'make', 'sake'],\n",
       " ['woman', 'year'],\n",
       " ['woman']]"
      ]
     },
     "execution_count": 13,
     "metadata": {},
     "output_type": "execute_result"
    }
   ],
   "source": [
    "# loop that computes second level similar words for each word from woman_sim_1\n",
    "woman_sim_2_nested = []\n",
    "for word in woman_disc_1:\n",
    "    woman_sim_2_nested.append(idx.similar_words(word)) # this returns nested lists\n",
    "\n",
    "woman_sim_2_nested"
   ]
  },
  {
   "cell_type": "code",
   "execution_count": 14,
   "metadata": {},
   "outputs": [
    {
     "data": {
      "text/plain": [
       "['till',\n",
       " 'reached',\n",
       " 'word',\n",
       " 'friend',\n",
       " 'time',\n",
       " 'dog',\n",
       " 'window',\n",
       " 'roused',\n",
       " 'explain',\n",
       " 'thing',\n",
       " 'another',\n",
       " 'mixture',\n",
       " 'toss',\n",
       " 'way',\n",
       " 'window',\n",
       " 'first',\n",
       " 'always',\n",
       " 'met',\n",
       " 'madam',\n",
       " 'stood',\n",
       " 'might',\n",
       " 'used',\n",
       " 'understood',\n",
       " 'prophet',\n",
       " 'bird',\n",
       " 'thought',\n",
       " 'come',\n",
       " 'shape',\n",
       " 'none',\n",
       " 'would',\n",
       " 'cried',\n",
       " 'allied',\n",
       " 'known',\n",
       " 'laughing',\n",
       " 'fool',\n",
       " 'london',\n",
       " 'could',\n",
       " 'ran',\n",
       " 'wit',\n",
       " 'able',\n",
       " 'happiness',\n",
       " 'wisdom',\n",
       " 'sailor',\n",
       " 'say',\n",
       " 'petticoat',\n",
       " 'indeed',\n",
       " 'scarcely',\n",
       " 'encumbrance',\n",
       " 'account',\n",
       " 'fly',\n",
       " 'leave',\n",
       " 'rust',\n",
       " 'make',\n",
       " 'sake',\n",
       " 'year']"
      ]
     },
     "execution_count": 14,
     "metadata": {},
     "output_type": "execute_result"
    }
   ],
   "source": [
    "# un-nest the words\n",
    "woman_sim_2 = [inner\n",
    "    for outer in woman_sim_2_nested\n",
    "        for inner in outer]\n",
    "woman_sim_2\n",
    "\n",
    "# filter out 'woman'\n",
    "woman_sim_2_clean = []\n",
    "for word in woman_sim_2:\n",
    "    if word != 'woman':\n",
    "        woman_sim_2_clean.append(word)\n",
    "\n",
    "woman_sim_2_clean"
   ]
  },
  {
   "cell_type": "markdown",
   "metadata": {},
   "source": [
    "## adding edges to woman_sim_2"
   ]
  },
  {
   "cell_type": "code",
   "execution_count": 22,
   "metadata": {},
   "outputs": [
    {
     "data": {
      "text/plain": [
       "0                                         [woman, till]\n",
       "1                                      [woman, reached]\n",
       "2                                         [word, woman]\n",
       "3            [friend, woman, time, dog, window, roused]\n",
       "4     [explain, thing, another, mixture, toss, way, ...\n",
       "5                    [always, woman, met, madam, stood]\n",
       "6     [might, used, understood, prophet, bird, thoug...\n",
       "7                           [london, woman, could, ran]\n",
       "8                                          [wit, woman]\n",
       "9         [able, happiness, wisdom, sailor, woman, say]\n",
       "10                           [woman, petticoat, indeed]\n",
       "11                                    [scarcely, woman]\n",
       "12    [woman, encumbrance, account, fly, leave, rust...\n",
       "13                                        [woman, year]\n",
       "14                                              [woman]\n",
       "dtype: object"
      ]
     },
     "execution_count": 22,
     "metadata": {},
     "output_type": "execute_result"
    }
   ],
   "source": [
    "s = pd.Series(woman_sim_2_nested)\n",
    "s"
   ]
  },
  {
   "cell_type": "code",
   "execution_count": null,
   "metadata": {},
   "outputs": [],
   "source": []
  },
  {
   "cell_type": "code",
   "execution_count": null,
   "metadata": {},
   "outputs": [],
   "source": []
  },
  {
   "cell_type": "code",
   "execution_count": 59,
   "metadata": {},
   "outputs": [
    {
     "name": "stdout",
     "output_type": "stream",
     "text": [
      "woman\n",
      "till\n"
     ]
    }
   ],
   "source": [
    "for item in woman_sim_2_nested[0]:\n",
    "    print(item)"
   ]
  },
  {
   "cell_type": "code",
   "execution_count": 23,
   "metadata": {},
   "outputs": [
    {
     "data": {
      "text/plain": [
       "0                                         [woman, till]\n",
       "1                                      [woman, reached]\n",
       "2                                         [word, woman]\n",
       "3            [friend, woman, time, dog, window, roused]\n",
       "4     [explain, thing, another, mixture, toss, way, ...\n",
       "5                    [always, woman, met, madam, stood]\n",
       "6     [might, used, understood, prophet, bird, thoug...\n",
       "7                           [london, woman, could, ran]\n",
       "8                                          [wit, woman]\n",
       "9         [able, happiness, wisdom, sailor, woman, say]\n",
       "10                           [woman, petticoat, indeed]\n",
       "11                                    [scarcely, woman]\n",
       "12    [woman, encumbrance, account, fly, leave, rust...\n",
       "13                                        [woman, year]\n",
       "14                                              [woman]\n",
       "dtype: object"
      ]
     },
     "execution_count": 23,
     "metadata": {},
     "output_type": "execute_result"
    }
   ],
   "source": [
    "s = pd.Series(woman_sim_2_nested)\n",
    "s"
   ]
  },
  {
   "cell_type": "code",
   "execution_count": 51,
   "metadata": {},
   "outputs": [
    {
     "name": "stdout",
     "output_type": "stream",
     "text": [
      "w\n",
      "o\n",
      "m\n",
      "a\n",
      "n\n"
     ]
    }
   ],
   "source": [
    "for item in woman_sim_2_nested[0][0]:\n",
    "   # if item != 'woman':\n",
    "        print(item)"
   ]
  },
  {
   "cell_type": "code",
   "execution_count": 40,
   "metadata": {},
   "outputs": [
    {
     "ename": "SyntaxError",
     "evalue": "invalid syntax (<ipython-input-40-486ec013c5ca>, line 1)",
     "output_type": "error",
     "traceback": [
      "\u001b[0;36m  File \u001b[0;32m\"<ipython-input-40-486ec013c5ca>\"\u001b[0;36m, line \u001b[0;32m1\u001b[0m\n\u001b[0;31m    def remove_woman(woman_sim_2_nested[i]):\u001b[0m\n\u001b[0m                                       ^\u001b[0m\n\u001b[0;31mSyntaxError\u001b[0m\u001b[0;31m:\u001b[0m invalid syntax\n"
     ]
    }
   ],
   "source": [
    "def remove_woman(woman_sim_2_nested[i]):\n",
    "    new_list = []\n",
    "    for word in woman_sim_2_nested[i]: # goes through each word in list within list\n",
    "        if word != \"woman\":\n",
    "            new_list.append(word)\n",
    "    new_list\n",
    "\n",
    "remove_woman(woman_sim_2_nested[0])"
   ]
  },
  {
   "cell_type": "code",
   "execution_count": 24,
   "metadata": {},
   "outputs": [
    {
     "data": {
      "text/plain": [
       "['till']"
      ]
     },
     "execution_count": 24,
     "metadata": {},
     "output_type": "execute_result"
    }
   ],
   "source": [
    "list_0 = []\n",
    "for word in woman_sim_2_nested[0]:\n",
    "    if word !=\"woman\":\n",
    "        list_0.append(word)\n",
    "list_0"
   ]
  },
  {
   "cell_type": "code",
   "execution_count": 25,
   "metadata": {},
   "outputs": [
    {
     "data": {
      "text/plain": [
       "['reached']"
      ]
     },
     "execution_count": 25,
     "metadata": {},
     "output_type": "execute_result"
    }
   ],
   "source": [
    "list_1 = []\n",
    "for word in woman_sim_2_nested[1]:\n",
    "    if word !=\"woman\":\n",
    "        list_1.append(word)\n",
    "list_1"
   ]
  },
  {
   "cell_type": "code",
   "execution_count": 26,
   "metadata": {},
   "outputs": [
    {
     "data": {
      "text/plain": [
       "['word']"
      ]
     },
     "execution_count": 26,
     "metadata": {},
     "output_type": "execute_result"
    }
   ],
   "source": [
    "list_2 = []\n",
    "for word in woman_sim_2_nested[2]:\n",
    "    if word !=\"woman\":\n",
    "        list_2.append(word)\n",
    "list_2"
   ]
  },
  {
   "cell_type": "code",
   "execution_count": 27,
   "metadata": {},
   "outputs": [
    {
     "data": {
      "text/plain": [
       "['friend', 'time', 'dog', 'window', 'roused']"
      ]
     },
     "execution_count": 27,
     "metadata": {},
     "output_type": "execute_result"
    }
   ],
   "source": [
    "list_3 = []\n",
    "for word in woman_sim_2_nested[3]:\n",
    "    if word !=\"woman\":\n",
    "        list_3.append(word)\n",
    "list_3"
   ]
  },
  {
   "cell_type": "code",
   "execution_count": 28,
   "metadata": {},
   "outputs": [
    {
     "data": {
      "text/plain": [
       "['explain', 'thing', 'another', 'mixture', 'toss', 'way', 'window', 'first']"
      ]
     },
     "execution_count": 28,
     "metadata": {},
     "output_type": "execute_result"
    }
   ],
   "source": [
    "list_4 = []\n",
    "for word in woman_sim_2_nested[4]:\n",
    "    if word !=\"woman\":\n",
    "        list_4.append(word)\n",
    "list_4"
   ]
  },
  {
   "cell_type": "code",
   "execution_count": null,
   "metadata": {},
   "outputs": [],
   "source": []
  },
  {
   "cell_type": "code",
   "execution_count": 29,
   "metadata": {},
   "outputs": [
    {
     "data": {
      "text/plain": [
       "['always', 'met', 'madam', 'stood']"
      ]
     },
     "execution_count": 29,
     "metadata": {},
     "output_type": "execute_result"
    }
   ],
   "source": [
    "list_5 = []\n",
    "for word in woman_sim_2_nested[5]:\n",
    "    if word !=\"woman\":\n",
    "        list_5.append(word)\n",
    "list_5"
   ]
  },
  {
   "cell_type": "code",
   "execution_count": 103,
   "metadata": {},
   "outputs": [
    {
     "data": {
      "text/html": [
       "<div>\n",
       "<style scoped>\n",
       "    .dataframe tbody tr th:only-of-type {\n",
       "        vertical-align: middle;\n",
       "    }\n",
       "\n",
       "    .dataframe tbody tr th {\n",
       "        vertical-align: top;\n",
       "    }\n",
       "\n",
       "    .dataframe thead th {\n",
       "        text-align: right;\n",
       "    }\n",
       "</style>\n",
       "<table border=\"1\" class=\"dataframe\">\n",
       "  <thead>\n",
       "    <tr style=\"text-align: right;\">\n",
       "      <th></th>\n",
       "      <th>0</th>\n",
       "      <th>1</th>\n",
       "      <th>2</th>\n",
       "      <th>3</th>\n",
       "      <th>4</th>\n",
       "      <th>5</th>\n",
       "      <th>6</th>\n",
       "      <th>7</th>\n",
       "      <th>8</th>\n",
       "      <th>9</th>\n",
       "      <th>10</th>\n",
       "      <th>11</th>\n",
       "      <th>12</th>\n",
       "      <th>13</th>\n",
       "      <th>14</th>\n",
       "      <th>15</th>\n",
       "    </tr>\n",
       "  </thead>\n",
       "  <tbody>\n",
       "    <tr>\n",
       "      <th>0</th>\n",
       "      <td>woman</td>\n",
       "      <td>till</td>\n",
       "      <td>None</td>\n",
       "      <td>None</td>\n",
       "      <td>None</td>\n",
       "      <td>None</td>\n",
       "      <td>None</td>\n",
       "      <td>None</td>\n",
       "      <td>None</td>\n",
       "      <td>None</td>\n",
       "      <td>None</td>\n",
       "      <td>None</td>\n",
       "      <td>None</td>\n",
       "      <td>None</td>\n",
       "      <td>None</td>\n",
       "      <td>None</td>\n",
       "    </tr>\n",
       "    <tr>\n",
       "      <th>1</th>\n",
       "      <td>woman</td>\n",
       "      <td>reached</td>\n",
       "      <td>None</td>\n",
       "      <td>None</td>\n",
       "      <td>None</td>\n",
       "      <td>None</td>\n",
       "      <td>None</td>\n",
       "      <td>None</td>\n",
       "      <td>None</td>\n",
       "      <td>None</td>\n",
       "      <td>None</td>\n",
       "      <td>None</td>\n",
       "      <td>None</td>\n",
       "      <td>None</td>\n",
       "      <td>None</td>\n",
       "      <td>None</td>\n",
       "    </tr>\n",
       "    <tr>\n",
       "      <th>2</th>\n",
       "      <td>word</td>\n",
       "      <td>woman</td>\n",
       "      <td>None</td>\n",
       "      <td>None</td>\n",
       "      <td>None</td>\n",
       "      <td>None</td>\n",
       "      <td>None</td>\n",
       "      <td>None</td>\n",
       "      <td>None</td>\n",
       "      <td>None</td>\n",
       "      <td>None</td>\n",
       "      <td>None</td>\n",
       "      <td>None</td>\n",
       "      <td>None</td>\n",
       "      <td>None</td>\n",
       "      <td>None</td>\n",
       "    </tr>\n",
       "    <tr>\n",
       "      <th>3</th>\n",
       "      <td>friend</td>\n",
       "      <td>woman</td>\n",
       "      <td>time</td>\n",
       "      <td>dog</td>\n",
       "      <td>window</td>\n",
       "      <td>roused</td>\n",
       "      <td>None</td>\n",
       "      <td>None</td>\n",
       "      <td>None</td>\n",
       "      <td>None</td>\n",
       "      <td>None</td>\n",
       "      <td>None</td>\n",
       "      <td>None</td>\n",
       "      <td>None</td>\n",
       "      <td>None</td>\n",
       "      <td>None</td>\n",
       "    </tr>\n",
       "    <tr>\n",
       "      <th>4</th>\n",
       "      <td>explain</td>\n",
       "      <td>thing</td>\n",
       "      <td>another</td>\n",
       "      <td>mixture</td>\n",
       "      <td>toss</td>\n",
       "      <td>way</td>\n",
       "      <td>window</td>\n",
       "      <td>first</td>\n",
       "      <td>woman</td>\n",
       "      <td>None</td>\n",
       "      <td>None</td>\n",
       "      <td>None</td>\n",
       "      <td>None</td>\n",
       "      <td>None</td>\n",
       "      <td>None</td>\n",
       "      <td>None</td>\n",
       "    </tr>\n",
       "    <tr>\n",
       "      <th>5</th>\n",
       "      <td>always</td>\n",
       "      <td>woman</td>\n",
       "      <td>met</td>\n",
       "      <td>madam</td>\n",
       "      <td>stood</td>\n",
       "      <td>None</td>\n",
       "      <td>None</td>\n",
       "      <td>None</td>\n",
       "      <td>None</td>\n",
       "      <td>None</td>\n",
       "      <td>None</td>\n",
       "      <td>None</td>\n",
       "      <td>None</td>\n",
       "      <td>None</td>\n",
       "      <td>None</td>\n",
       "      <td>None</td>\n",
       "    </tr>\n",
       "    <tr>\n",
       "      <th>6</th>\n",
       "      <td>might</td>\n",
       "      <td>used</td>\n",
       "      <td>understood</td>\n",
       "      <td>prophet</td>\n",
       "      <td>bird</td>\n",
       "      <td>thought</td>\n",
       "      <td>come</td>\n",
       "      <td>shape</td>\n",
       "      <td>none</td>\n",
       "      <td>would</td>\n",
       "      <td>woman</td>\n",
       "      <td>cried</td>\n",
       "      <td>allied</td>\n",
       "      <td>known</td>\n",
       "      <td>laughing</td>\n",
       "      <td>fool</td>\n",
       "    </tr>\n",
       "    <tr>\n",
       "      <th>7</th>\n",
       "      <td>london</td>\n",
       "      <td>woman</td>\n",
       "      <td>could</td>\n",
       "      <td>ran</td>\n",
       "      <td>None</td>\n",
       "      <td>None</td>\n",
       "      <td>None</td>\n",
       "      <td>None</td>\n",
       "      <td>None</td>\n",
       "      <td>None</td>\n",
       "      <td>None</td>\n",
       "      <td>None</td>\n",
       "      <td>None</td>\n",
       "      <td>None</td>\n",
       "      <td>None</td>\n",
       "      <td>None</td>\n",
       "    </tr>\n",
       "    <tr>\n",
       "      <th>8</th>\n",
       "      <td>wit</td>\n",
       "      <td>woman</td>\n",
       "      <td>None</td>\n",
       "      <td>None</td>\n",
       "      <td>None</td>\n",
       "      <td>None</td>\n",
       "      <td>None</td>\n",
       "      <td>None</td>\n",
       "      <td>None</td>\n",
       "      <td>None</td>\n",
       "      <td>None</td>\n",
       "      <td>None</td>\n",
       "      <td>None</td>\n",
       "      <td>None</td>\n",
       "      <td>None</td>\n",
       "      <td>None</td>\n",
       "    </tr>\n",
       "    <tr>\n",
       "      <th>9</th>\n",
       "      <td>able</td>\n",
       "      <td>happiness</td>\n",
       "      <td>wisdom</td>\n",
       "      <td>sailor</td>\n",
       "      <td>woman</td>\n",
       "      <td>say</td>\n",
       "      <td>None</td>\n",
       "      <td>None</td>\n",
       "      <td>None</td>\n",
       "      <td>None</td>\n",
       "      <td>None</td>\n",
       "      <td>None</td>\n",
       "      <td>None</td>\n",
       "      <td>None</td>\n",
       "      <td>None</td>\n",
       "      <td>None</td>\n",
       "    </tr>\n",
       "    <tr>\n",
       "      <th>10</th>\n",
       "      <td>woman</td>\n",
       "      <td>petticoat</td>\n",
       "      <td>indeed</td>\n",
       "      <td>None</td>\n",
       "      <td>None</td>\n",
       "      <td>None</td>\n",
       "      <td>None</td>\n",
       "      <td>None</td>\n",
       "      <td>None</td>\n",
       "      <td>None</td>\n",
       "      <td>None</td>\n",
       "      <td>None</td>\n",
       "      <td>None</td>\n",
       "      <td>None</td>\n",
       "      <td>None</td>\n",
       "      <td>None</td>\n",
       "    </tr>\n",
       "    <tr>\n",
       "      <th>11</th>\n",
       "      <td>scarcely</td>\n",
       "      <td>woman</td>\n",
       "      <td>None</td>\n",
       "      <td>None</td>\n",
       "      <td>None</td>\n",
       "      <td>None</td>\n",
       "      <td>None</td>\n",
       "      <td>None</td>\n",
       "      <td>None</td>\n",
       "      <td>None</td>\n",
       "      <td>None</td>\n",
       "      <td>None</td>\n",
       "      <td>None</td>\n",
       "      <td>None</td>\n",
       "      <td>None</td>\n",
       "      <td>None</td>\n",
       "    </tr>\n",
       "    <tr>\n",
       "      <th>12</th>\n",
       "      <td>woman</td>\n",
       "      <td>encumbrance</td>\n",
       "      <td>account</td>\n",
       "      <td>fly</td>\n",
       "      <td>leave</td>\n",
       "      <td>rust</td>\n",
       "      <td>make</td>\n",
       "      <td>sake</td>\n",
       "      <td>None</td>\n",
       "      <td>None</td>\n",
       "      <td>None</td>\n",
       "      <td>None</td>\n",
       "      <td>None</td>\n",
       "      <td>None</td>\n",
       "      <td>None</td>\n",
       "      <td>None</td>\n",
       "    </tr>\n",
       "    <tr>\n",
       "      <th>13</th>\n",
       "      <td>woman</td>\n",
       "      <td>year</td>\n",
       "      <td>None</td>\n",
       "      <td>None</td>\n",
       "      <td>None</td>\n",
       "      <td>None</td>\n",
       "      <td>None</td>\n",
       "      <td>None</td>\n",
       "      <td>None</td>\n",
       "      <td>None</td>\n",
       "      <td>None</td>\n",
       "      <td>None</td>\n",
       "      <td>None</td>\n",
       "      <td>None</td>\n",
       "      <td>None</td>\n",
       "      <td>None</td>\n",
       "    </tr>\n",
       "    <tr>\n",
       "      <th>14</th>\n",
       "      <td>woman</td>\n",
       "      <td>None</td>\n",
       "      <td>None</td>\n",
       "      <td>None</td>\n",
       "      <td>None</td>\n",
       "      <td>None</td>\n",
       "      <td>None</td>\n",
       "      <td>None</td>\n",
       "      <td>None</td>\n",
       "      <td>None</td>\n",
       "      <td>None</td>\n",
       "      <td>None</td>\n",
       "      <td>None</td>\n",
       "      <td>None</td>\n",
       "      <td>None</td>\n",
       "      <td>None</td>\n",
       "    </tr>\n",
       "  </tbody>\n",
       "</table>\n",
       "</div>"
      ],
      "text/plain": [
       "          0            1           2        3       4        5       6   \\\n",
       "0      woman         till        None     None    None     None    None   \n",
       "1      woman      reached        None     None    None     None    None   \n",
       "2       word        woman        None     None    None     None    None   \n",
       "3     friend        woman        time      dog  window   roused    None   \n",
       "4    explain        thing     another  mixture    toss      way  window   \n",
       "5     always        woman         met    madam   stood     None    None   \n",
       "6      might         used  understood  prophet    bird  thought    come   \n",
       "7     london        woman       could      ran    None     None    None   \n",
       "8        wit        woman        None     None    None     None    None   \n",
       "9       able    happiness      wisdom   sailor   woman      say    None   \n",
       "10     woman    petticoat      indeed     None    None     None    None   \n",
       "11  scarcely        woman        None     None    None     None    None   \n",
       "12     woman  encumbrance     account      fly   leave     rust    make   \n",
       "13     woman         year        None     None    None     None    None   \n",
       "14     woman         None        None     None    None     None    None   \n",
       "\n",
       "       7      8      9      10     11      12     13        14    15  \n",
       "0    None   None   None   None   None    None   None      None  None  \n",
       "1    None   None   None   None   None    None   None      None  None  \n",
       "2    None   None   None   None   None    None   None      None  None  \n",
       "3    None   None   None   None   None    None   None      None  None  \n",
       "4   first  woman   None   None   None    None   None      None  None  \n",
       "5    None   None   None   None   None    None   None      None  None  \n",
       "6   shape   none  would  woman  cried  allied  known  laughing  fool  \n",
       "7    None   None   None   None   None    None   None      None  None  \n",
       "8    None   None   None   None   None    None   None      None  None  \n",
       "9    None   None   None   None   None    None   None      None  None  \n",
       "10   None   None   None   None   None    None   None      None  None  \n",
       "11   None   None   None   None   None    None   None      None  None  \n",
       "12   sake   None   None   None   None    None   None      None  None  \n",
       "13   None   None   None   None   None    None   None      None  None  \n",
       "14   None   None   None   None   None    None   None      None  None  "
      ]
     },
     "execution_count": 103,
     "metadata": {},
     "output_type": "execute_result"
    }
   ],
   "source": [
    "df = pd.DataFrame(woman_sim_2_nested)\n",
    "df"
   ]
  },
  {
   "cell_type": "code",
   "execution_count": 108,
   "metadata": {},
   "outputs": [
    {
     "data": {
      "text/plain": [
       "[0, 1, 2, 3, 4, 5, 6, 7, 8, 9, 10, 11, 12, 13, 14, 15]"
      ]
     },
     "execution_count": 108,
     "metadata": {},
     "output_type": "execute_result"
    }
   ],
   "source": []
  },
  {
   "cell_type": "code",
   "execution_count": 105,
   "metadata": {},
   "outputs": [
    {
     "data": {
      "text/plain": [
       "0                                         [woman, till]\n",
       "1                                      [woman, reached]\n",
       "2                                         [word, woman]\n",
       "3            [friend, woman, time, dog, window, roused]\n",
       "4     [explain, thing, another, mixture, toss, way, ...\n",
       "5                    [always, woman, met, madam, stood]\n",
       "6     [might, used, understood, prophet, bird, thoug...\n",
       "7                           [london, woman, could, ran]\n",
       "8                                          [wit, woman]\n",
       "9         [able, happiness, wisdom, sailor, woman, say]\n",
       "10                           [woman, petticoat, indeed]\n",
       "11                                    [scarcely, woman]\n",
       "12    [woman, encumbrance, account, fly, leave, rust...\n",
       "13                                        [woman, year]\n",
       "14                                              [woman]\n",
       "dtype: object"
      ]
     },
     "execution_count": 105,
     "metadata": {},
     "output_type": "execute_result"
    }
   ],
   "source": [
    "s = pd.Series(woman_sim_2_nested)\n",
    "s"
   ]
  },
  {
   "cell_type": "code",
   "execution_count": 44,
   "metadata": {},
   "outputs": [
    {
     "data": {
      "text/plain": [
       "[['green', 'yellow'], ['orange']]"
      ]
     },
     "execution_count": 44,
     "metadata": {},
     "output_type": "execute_result"
    }
   ],
   "source": [
    "the_list = [['blue'], ['blue', 'red', 'black'], ['green', 'yellow'],['orange'], ['white', 'gray']]\n",
    "filters = ['blue', 'white']\n",
    "final_l = [i for i in the_list if not any(word in filters for word in i)]\n",
    "final_l\n"
   ]
  },
  {
   "cell_type": "code",
   "execution_count": 64,
   "metadata": {},
   "outputs": [
    {
     "data": {
      "text/plain": [
       "['reached',\n",
       " 'till',\n",
       " 'friend',\n",
       " 'word',\n",
       " 'moment',\n",
       " 'saw',\n",
       " 'could',\n",
       " 'cried',\n",
       " 'sailor',\n",
       " 'wit',\n",
       " 'scarcely',\n",
       " 'petticoat',\n",
       " 'go',\n",
       " 'servant',\n",
       " 'conclusion']"
      ]
     },
     "execution_count": 64,
     "metadata": {},
     "output_type": "execute_result"
    }
   ],
   "source": [
    "woman_sim_2_nested"
   ]
  },
  {
   "cell_type": "code",
   "execution_count": null,
   "metadata": {},
   "outputs": [],
   "source": []
  },
  {
   "cell_type": "code",
   "execution_count": null,
   "metadata": {},
   "outputs": [],
   "source": []
  },
  {
   "cell_type": "code",
   "execution_count": null,
   "metadata": {},
   "outputs": [],
   "source": []
  }
 ],
 "metadata": {
  "kernelspec": {
   "display_name": "Python 3",
   "language": "python",
   "name": "python3"
  },
  "language_info": {
   "codemirror_mode": {
    "name": "ipython",
    "version": 3
   },
   "file_extension": ".py",
   "mimetype": "text/x-python",
   "name": "python",
   "nbconvert_exporter": "python",
   "pygments_lexer": "ipython3",
   "version": "3.7.7"
  }
 },
 "nbformat": 4,
 "nbformat_minor": 4
}
