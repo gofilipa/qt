{
 "cells": [
  {
   "cell_type": "code",
   "execution_count": 52,
   "metadata": {},
   "outputs": [],
   "source": [
    "# importing the necessary libraries\n",
    "import nltk\n",
    "from nltk.corpus import stopwords\n",
    "from nltk.stem import WordNetLemmatizer"
   ]
  },
  {
   "cell_type": "code",
   "execution_count": 53,
   "metadata": {},
   "outputs": [],
   "source": [
    "# loading up the text, tokenizing\n",
    "raw = open(\"orlando.txt\").read()\n",
    "o_tokens = nltk.word_tokenize(raw)"
   ]
  },
  {
   "cell_type": "code",
   "execution_count": 3,
   "metadata": {},
   "outputs": [],
   "source": [
    "# slicing the front and back matter\n",
    "o_text = o_tokens[872:-5]"
   ]
  },
  {
   "cell_type": "code",
   "execution_count": 4,
   "metadata": {},
   "outputs": [
    {
     "data": {
      "text/plain": [
       "<Text: He -- for there could be no doubt...>"
      ]
     },
     "execution_count": 4,
     "metadata": {},
     "output_type": "execute_result"
    }
   ],
   "source": [
    "# instatiating an NLTK Text class\n",
    "orl = nltk.Text(o_text)\n",
    "orl"
   ]
  },
  {
   "cell_type": "code",
   "execution_count": 5,
   "metadata": {},
   "outputs": [
    {
     "data": {
      "text/plain": [
       "122"
      ]
     },
     "execution_count": 5,
     "metadata": {},
     "output_type": "execute_result"
    }
   ],
   "source": [
    "orl.count(\"woman\")"
   ]
  },
  {
   "cell_type": "code",
   "execution_count": 6,
   "metadata": {},
   "outputs": [],
   "source": [
    "# cleaning the text (caps, punct, stops)\n",
    "\n",
    "# removing punctuation\n",
    "lower_no_punct = [word.lower() for word in orl if word.isalpha()]\n",
    "\n",
    "# removing stops\n",
    "stops = stopwords.words('english')\n",
    "no_stops = [word for word in lower_no_punct if word not in stops]\n",
    "\n",
    "# lemmatizing\n",
    "clean_text = [WordNetLemmatizer.lemmatize(word, word) for word in no_stops]\n",
    "clean_text[:30]\n",
    "\n",
    "orl = clean_text"
   ]
  },
  {
   "cell_type": "code",
   "execution_count": 7,
   "metadata": {},
   "outputs": [
    {
     "data": {
      "text/plain": [
       "['could',\n",
       " 'doubt',\n",
       " 'sex',\n",
       " 'though',\n",
       " 'fashion',\n",
       " 'time',\n",
       " 'something',\n",
       " 'disguise',\n",
       " 'act',\n",
       " 'slicing']"
      ]
     },
     "execution_count": 7,
     "metadata": {},
     "output_type": "execute_result"
    }
   ],
   "source": [
    "orl[:10]"
   ]
  },
  {
   "cell_type": "code",
   "execution_count": 8,
   "metadata": {},
   "outputs": [],
   "source": [
    "import gensim\n",
    "from gensim.models import Word2Vec"
   ]
  },
  {
   "cell_type": "code",
   "execution_count": 9,
   "metadata": {},
   "outputs": [],
   "source": [
    "model = Word2Vec([orl], vector_size=100, window=10, min_count=1, workers=4)"
   ]
  },
  {
   "cell_type": "code",
   "execution_count": 12,
   "metadata": {},
   "outputs": [
    {
     "data": {
      "text/plain": [
       "array([-9.6426709e-03,  3.8562999e-03, -5.0770678e-03, -1.8862741e-03,\n",
       "        4.9283798e-03, -2.2354461e-03, -7.9558167e-04,  1.1305678e-02,\n",
       "       -7.4489745e-03,  7.2825411e-03, -8.0191586e-03, -5.9161236e-04,\n",
       "       -6.7658182e-03,  4.4968142e-03, -4.5120013e-03, -8.6195404e-03,\n",
       "       -3.2483002e-03,  8.1448059e-04,  6.3054394e-03, -1.3361373e-02,\n",
       "        2.5858062e-03, -9.1357371e-03,  1.2236642e-02,  8.4178904e-03,\n",
       "       -7.5722573e-04, -8.4838259e-04, -1.8678643e-03,  2.8497733e-03,\n",
       "       -1.4097577e-02, -7.3872652e-05,  1.0268435e-02,  2.9914943e-03,\n",
       "        2.6797114e-03, -1.3961053e-02,  9.3275513e-03, -2.3115627e-03,\n",
       "       -3.2396191e-03, -4.2252115e-04, -3.6555403e-03, -6.2515391e-03,\n",
       "        4.9444014e-04, -1.0825893e-02, -1.1308765e-02,  1.0988420e-02,\n",
       "        9.1143595e-03, -7.6031811e-03, -4.8216683e-04,  1.8300915e-03,\n",
       "        5.4727639e-03, -3.1787264e-03,  6.1462382e-03,  2.3180977e-03,\n",
       "        5.2845376e-03, -5.1041385e-03, -2.8633580e-03, -4.0346175e-03,\n",
       "       -7.4118623e-03, -1.0310852e-02, -3.7625898e-03, -3.1308841e-03,\n",
       "        6.1671450e-03, -4.7264481e-03,  9.9484471e-04,  9.9584484e-04,\n",
       "       -9.1911545e-03,  3.9377036e-03,  1.2531907e-02,  1.1331349e-02,\n",
       "       -1.0700576e-02,  1.4120795e-02, -8.8253459e-03,  6.9855507e-03,\n",
       "        2.6096231e-03,  2.1836923e-03,  9.8123820e-03,  1.0971388e-02,\n",
       "       -1.5850589e-03,  8.6523648e-03,  2.4047403e-03, -9.4738901e-03,\n",
       "       -9.1359559e-03, -7.3271831e-03, -5.6615507e-04,  2.6797582e-03,\n",
       "       -8.2944920e-03, -8.0482373e-03,  6.8729329e-03,  5.8297995e-03,\n",
       "       -5.1931026e-03, -3.1926387e-03,  7.8464393e-03, -1.4136827e-03,\n",
       "        5.6411992e-03, -2.4206880e-03,  9.3000177e-03, -4.0243538e-03,\n",
       "        1.0883491e-02,  2.3915204e-03,  1.3730741e-03,  4.7136461e-03],\n",
       "      dtype=float32)"
      ]
     },
     "execution_count": 12,
     "metadata": {},
     "output_type": "execute_result"
    }
   ],
   "source": [
    "model.wv[\"woman\"]"
   ]
  },
  {
   "cell_type": "code",
   "execution_count": 54,
   "metadata": {},
   "outputs": [],
   "source": [
    "woman_vector = model.wv['woman']"
   ]
  },
  {
   "cell_type": "code",
   "execution_count": 55,
   "metadata": {},
   "outputs": [],
   "source": [
    "similar_w = model.wv.most_similar(\"woman\")"
   ]
  },
  {
   "cell_type": "code",
   "execution_count": 56,
   "metadata": {},
   "outputs": [],
   "source": [
    "similar_m = model.wv.most_similar(\"man\")"
   ]
  },
  {
   "cell_type": "code",
   "execution_count": 57,
   "metadata": {},
   "outputs": [],
   "source": [
    "distinct_w = model.wv.most_similar(positive=\"woman\", negative=\"man\")"
   ]
  },
  {
   "cell_type": "code",
   "execution_count": 58,
   "metadata": {},
   "outputs": [],
   "source": [
    "distinct_m = model.wv.most_similar(positive=\"man\", negative=\"woman\")"
   ]
  },
  {
   "cell_type": "code",
   "execution_count": 59,
   "metadata": {},
   "outputs": [
    {
     "data": {
      "text/plain": [
       "[('would', 0.5118660926818848),\n",
       " ('hand', 0.5049053430557251),\n",
       " ('night', 0.4855204224586487),\n",
       " ('though', 0.4815906882286072),\n",
       " ('way', 0.476143479347229),\n",
       " ('foot', 0.4528403580188751),\n",
       " ('orlando', 0.433744877576828),\n",
       " ('said', 0.43140658736228943),\n",
       " ('like', 0.41121190786361694),\n",
       " ('life', 0.4069981873035431)]"
      ]
     },
     "execution_count": 59,
     "metadata": {},
     "output_type": "execute_result"
    }
   ],
   "source": [
    "similar_w"
   ]
  },
  {
   "cell_type": "code",
   "execution_count": 60,
   "metadata": {},
   "outputs": [
    {
     "data": {
      "text/plain": [
       "[('would', 0.6174017786979675),\n",
       " ('orlando', 0.6018419861793518),\n",
       " ('night', 0.5755824446678162),\n",
       " ('way', 0.5710440874099731),\n",
       " ('great', 0.5492382645606995),\n",
       " ('long', 0.5454811453819275),\n",
       " ('could', 0.53724604845047),\n",
       " ('table', 0.5338666439056396),\n",
       " ('thus', 0.533319354057312),\n",
       " ('said', 0.5238105058670044)]"
      ]
     },
     "execution_count": 60,
     "metadata": {},
     "output_type": "execute_result"
    }
   ],
   "source": [
    "similar_m"
   ]
  },
  {
   "cell_type": "code",
   "execution_count": 61,
   "metadata": {},
   "outputs": [
    {
     "data": {
      "text/plain": [
       "[('soft', 0.3692586421966553),\n",
       " ('named', 0.34212377667427063),\n",
       " ('sciatica', 0.3223450779914856),\n",
       " ('frilled', 0.3187992572784424),\n",
       " ('despaired', 0.31375786662101746),\n",
       " ('friend', 0.31238242983818054),\n",
       " ('delicious', 0.30853813886642456),\n",
       " ('winked', 0.30514153838157654),\n",
       " ('notion', 0.3047487139701843),\n",
       " ('seductiveness', 0.30290719866752625)]"
      ]
     },
     "execution_count": 61,
     "metadata": {},
     "output_type": "execute_result"
    }
   ],
   "source": [
    "distinct_w"
   ]
  },
  {
   "cell_type": "code",
   "execution_count": 62,
   "metadata": {},
   "outputs": [
    {
     "data": {
      "text/plain": [
       "[('chequered', 0.4025157392024994),\n",
       " ('fact', 0.3394489586353302),\n",
       " ('denounced', 0.3346075117588043),\n",
       " ('house', 0.33423593640327454),\n",
       " ('curiosity', 0.33144116401672363),\n",
       " ('defend', 0.3284823000431061),\n",
       " ('dancing', 0.3282632827758789),\n",
       " ('marbling', 0.3184848427772522),\n",
       " ('cynosure', 0.3057470917701721),\n",
       " ('rather', 0.3024100363254547)]"
      ]
     },
     "execution_count": 62,
     "metadata": {},
     "output_type": "execute_result"
    }
   ],
   "source": [
    "distinct_m"
   ]
  },
  {
   "cell_type": "code",
   "execution_count": 64,
   "metadata": {},
   "outputs": [
    {
     "data": {
      "text/plain": [
       "[('festooned', 0.325687050819397),\n",
       " ('quick', 0.3161796033382416),\n",
       " ('undoing', 0.3117762804031372),\n",
       " ('intimacy', 0.30880218744277954),\n",
       " ('control', 0.3084108829498291),\n",
       " ('uncertain', 0.3076607584953308),\n",
       " ('trivial', 0.30311688780784607),\n",
       " ('speech', 0.3012596368789673),\n",
       " ('mermaid', 0.293935090303421),\n",
       " ('petrifaction', 0.2863236963748932)]"
      ]
     },
     "execution_count": 64,
     "metadata": {},
     "output_type": "execute_result"
    }
   ],
   "source": [
    "model.wv.most_similar(\"curiosity\")"
   ]
  },
  {
   "cell_type": "code",
   "execution_count": 66,
   "metadata": {},
   "outputs": [
    {
     "data": {
      "text/plain": [
       "[('culpable', 0.345483660697937),\n",
       " ('richards', 0.3425333797931671),\n",
       " ('properly', 0.3191170394420624),\n",
       " ('played', 0.3120865821838379),\n",
       " ('fathomless', 0.3099019229412079),\n",
       " ('apt', 0.30884209275245667),\n",
       " ('delivered', 0.3073662221431732),\n",
       " ('scrap', 0.30533257126808167),\n",
       " ('shyness', 0.30440554022789),\n",
       " ('harriet', 0.2943142354488373)]"
      ]
     },
     "execution_count": 66,
     "metadata": {},
     "output_type": "execute_result"
    }
   ],
   "source": [
    "model.wv.most_similar(\"delicious\")"
   ]
  },
  {
   "cell_type": "code",
   "execution_count": 67,
   "metadata": {},
   "outputs": [
    {
     "data": {
      "text/plain": [
       "[('reasonable', 0.35280558466911316),\n",
       " ('delicious', 0.3371393382549286),\n",
       " ('brightness', 0.3149891793727875),\n",
       " ('attempt', 0.30971860885620117),\n",
       " ('muscovy', 0.30953365564346313),\n",
       " ('madam', 0.30943289399147034),\n",
       " ('tightly', 0.3027557134628296),\n",
       " ('railway', 0.30019238591194153),\n",
       " ('sweden', 0.2986631989479065),\n",
       " ('corpulent', 0.2970803380012512)]"
      ]
     },
     "execution_count": 67,
     "metadata": {},
     "output_type": "execute_result"
    }
   ],
   "source": [
    "model.wv.most_similar(positive=\"culpable\", negative=\"man\")"
   ]
  },
  {
   "cell_type": "code",
   "execution_count": 65,
   "metadata": {},
   "outputs": [
    {
     "data": {
      "text/plain": [
       "[('hide', 0.3477962017059326),\n",
       " ('smashing', 0.3472397029399872),\n",
       " ('blithe', 0.33374664187431335),\n",
       " ('quill', 0.3297535181045532),\n",
       " ('frenzy', 0.3146195709705353),\n",
       " ('proud', 0.3140791952610016),\n",
       " ('mixing', 0.3132190704345703),\n",
       " ('wo', 0.311701238155365),\n",
       " ('cumberland', 0.29918599128723145),\n",
       " ('dark', 0.2949889004230499)]"
      ]
     },
     "execution_count": 65,
     "metadata": {},
     "output_type": "execute_result"
    }
   ],
   "source": [
    "model.wv.most_similar(\"seductiveness\")"
   ]
  },
  {
   "cell_type": "code",
   "execution_count": 63,
   "metadata": {},
   "outputs": [
    {
     "name": "stdout",
     "output_type": "stream",
     "text": [
      "soft: 0.369\n",
      "named: 0.342\n",
      "sciatica: 0.322\n",
      "frilled: 0.319\n",
      "despaired: 0.314\n",
      "friend: 0.312\n",
      "delicious: 0.309\n",
      "winked: 0.305\n",
      "notion: 0.305\n",
      "seductiveness: 0.303\n"
     ]
    }
   ],
   "source": [
    "for word, similarity in distinct_w:\n",
    "    print(f\"{word}: {similarity:.3f}\") # .3f means to round to 3 places after decimal"
   ]
  },
  {
   "cell_type": "code",
   "execution_count": 84,
   "metadata": {},
   "outputs": [
    {
     "data": {
      "text/plain": [
       "['fasttext-wiki-news-subwords-300',\n",
       " 'conceptnet-numberbatch-17-06-300',\n",
       " 'word2vec-ruscorpora-300',\n",
       " 'word2vec-google-news-300',\n",
       " 'glove-wiki-gigaword-50',\n",
       " 'glove-wiki-gigaword-100',\n",
       " 'glove-wiki-gigaword-200',\n",
       " 'glove-wiki-gigaword-300',\n",
       " 'glove-twitter-25',\n",
       " 'glove-twitter-50',\n",
       " 'glove-twitter-100',\n",
       " 'glove-twitter-200',\n",
       " '__testing_word2vec-matrix-synopsis']"
      ]
     },
     "execution_count": 84,
     "metadata": {},
     "output_type": "execute_result"
    }
   ],
   "source": [
    "import gensim.downloader\n",
    "list(gensim.downloader.info()['models'].keys())"
   ]
  },
  {
   "cell_type": "code",
   "execution_count": 85,
   "metadata": {},
   "outputs": [
    {
     "name": "stdout",
     "output_type": "stream",
     "text": [
      "[=================================================-] 99.5% 104.3/104.8MB downloaded\n"
     ]
    }
   ],
   "source": [
    "# glove?\n",
    "glove_vectors = gensim.downloader.load('glove-twitter-25')"
   ]
  },
  {
   "cell_type": "code",
   "execution_count": 86,
   "metadata": {},
   "outputs": [
    {
     "data": {
      "text/plain": [
       "[('child', 0.9371739625930786),\n",
       " ('mother', 0.9214696884155273),\n",
       " ('whose', 0.9174973368644714),\n",
       " ('called', 0.9146499633789062),\n",
       " ('person', 0.9135538339614868),\n",
       " ('wife', 0.9088311195373535),\n",
       " ('being', 0.9037441611289978),\n",
       " ('father', 0.9028053283691406),\n",
       " ('guy', 0.9026350975036621),\n",
       " ('known', 0.8997253179550171)]"
      ]
     },
     "execution_count": 86,
     "metadata": {},
     "output_type": "execute_result"
    }
   ],
   "source": [
    "glove_vectors.most_similar('woman')"
   ]
  },
  {
   "cell_type": "code",
   "execution_count": 93,
   "metadata": {},
   "outputs": [
    {
     "data": {
      "text/plain": [
       "[('was', 0.9065622091293335),\n",
       " ('i', 0.8880172371864319),\n",
       " ('he', 0.887438178062439),\n",
       " ('bad', 0.8846145272254944),\n",
       " ('even', 0.8832389712333679),\n",
       " ('be', 0.8784030079841614),\n",
       " ('we', 0.8764979243278503),\n",
       " ('not', 0.8764553666114807),\n",
       " ('had', 0.8762108683586121),\n",
       " ('glad', 0.8758711218833923)]"
      ]
     },
     "execution_count": 93,
     "metadata": {},
     "output_type": "execute_result"
    }
   ],
   "source": [
    "glove_vectors.most_similar('man')"
   ]
  },
  {
   "cell_type": "code",
   "execution_count": 89,
   "metadata": {},
   "outputs": [
    {
     "data": {
      "text/plain": [
       "array([-9.2527e-01, -3.3879e-01, -3.2138e-01,  1.4676e-01,  5.2270e-01,\n",
       "       -1.5349e-01,  1.2166e+00, -2.2389e-01, -8.6560e-02,  2.8510e-01,\n",
       "        1.8474e-01,  4.2797e-01, -4.3978e+00,  2.6168e-01, -4.3044e-01,\n",
       "       -1.1920e-03,  6.6894e-01, -8.1109e-02,  5.6346e-01, -3.7477e-01,\n",
       "        1.1786e+00,  7.7134e-01, -5.2764e-01, -1.2592e+00, -4.5112e-01],\n",
       "      dtype=float32)"
      ]
     },
     "execution_count": 89,
     "metadata": {},
     "output_type": "execute_result"
    }
   ],
   "source": [
    "glove_vectors[\"woman\"]"
   ]
  },
  {
   "cell_type": "code",
   "execution_count": null,
   "metadata": {},
   "outputs": [],
   "source": []
  }
 ],
 "metadata": {
  "kernelspec": {
   "display_name": "Python 3",
   "language": "python",
   "name": "python3"
  },
  "language_info": {
   "codemirror_mode": {
    "name": "ipython",
    "version": 3
   },
   "file_extension": ".py",
   "mimetype": "text/x-python",
   "name": "python",
   "nbconvert_exporter": "python",
   "pygments_lexer": "ipython3",
   "version": "3.7.7"
  }
 },
 "nbformat": 4,
 "nbformat_minor": 4
}
