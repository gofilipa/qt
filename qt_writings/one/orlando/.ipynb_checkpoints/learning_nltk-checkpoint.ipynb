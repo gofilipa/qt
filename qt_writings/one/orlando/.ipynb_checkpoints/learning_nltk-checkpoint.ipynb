{
 "cells": [
  {
   "cell_type": "code",
   "execution_count": 1,
   "metadata": {},
   "outputs": [],
   "source": [
    "import nltk\n",
    "import matplotlib\n",
    "%matplotlib inline"
   ]
  },
  {
   "cell_type": "markdown",
   "metadata": {},
   "source": [
    "# loading & tokenizing orlando"
   ]
  },
  {
   "cell_type": "code",
   "execution_count": 2,
   "metadata": {},
   "outputs": [],
   "source": [
    "from urllib.request import urlopen\n",
    "my_url = \"http://gutenberg.net.au/ebooks02/0200331.txt\""
   ]
  },
  {
   "cell_type": "code",
   "execution_count": 3,
   "metadata": {},
   "outputs": [
    {
     "data": {
      "text/plain": [
       "bytes"
      ]
     },
     "execution_count": 3,
     "metadata": {},
     "output_type": "execute_result"
    }
   ],
   "source": [
    "file = urlopen(my_url)\n",
    "raw = file.read()\n",
    "type(raw)"
   ]
  },
  {
   "cell_type": "code",
   "execution_count": 4,
   "metadata": {},
   "outputs": [],
   "source": [
    "woolf = raw.decode()"
   ]
  },
  {
   "cell_type": "code",
   "execution_count": 5,
   "metadata": {},
   "outputs": [
    {
     "data": {
      "text/plain": [
       "str"
      ]
     },
     "execution_count": 5,
     "metadata": {},
     "output_type": "execute_result"
    }
   ],
   "source": [
    "type(woolf)"
   ]
  },
  {
   "cell_type": "code",
   "execution_count": 6,
   "metadata": {},
   "outputs": [
    {
     "data": {
      "text/plain": [
       "list"
      ]
     },
     "execution_count": 6,
     "metadata": {},
     "output_type": "execute_result"
    }
   ],
   "source": [
    "woolf_tokens = nltk.word_tokenize(woolf)\n",
    "type(woolf_tokens)"
   ]
  },
  {
   "cell_type": "code",
   "execution_count": 7,
   "metadata": {},
   "outputs": [
    {
     "data": {
      "text/plain": [
       "92334"
      ]
     },
     "execution_count": 7,
     "metadata": {},
     "output_type": "execute_result"
    }
   ],
   "source": [
    "len(woolf_tokens)"
   ]
  },
  {
   "cell_type": "code",
   "execution_count": 8,
   "metadata": {},
   "outputs": [
    {
     "data": {
      "text/plain": [
       "['Project',\n",
       " 'Gutenberg',\n",
       " 'Australia',\n",
       " 'Title',\n",
       " ':',\n",
       " 'Orlando',\n",
       " 'Author',\n",
       " ':',\n",
       " 'Virginia',\n",
       " 'Woolf',\n",
       " '*',\n",
       " 'A',\n",
       " 'Project',\n",
       " 'Gutenberg',\n",
       " 'of',\n",
       " 'Australia',\n",
       " 'eBook',\n",
       " '*',\n",
       " 'eBook',\n",
       " 'No',\n",
       " '.',\n",
       " ':',\n",
       " '0200331.txt',\n",
       " 'Language',\n",
       " ':',\n",
       " 'English',\n",
       " 'Date',\n",
       " 'first',\n",
       " 'posted',\n",
       " ':',\n",
       " 'April',\n",
       " '2002',\n",
       " 'Date',\n",
       " 'most',\n",
       " 'recently',\n",
       " 'updated',\n",
       " ':',\n",
       " 'July',\n",
       " '2015',\n",
       " 'This',\n",
       " 'eBook',\n",
       " 'was',\n",
       " 'produced',\n",
       " 'by',\n",
       " ':',\n",
       " 'Sue',\n",
       " 'Asscher',\n",
       " 'Project',\n",
       " 'Gutenberg',\n",
       " 'of']"
      ]
     },
     "execution_count": 8,
     "metadata": {},
     "output_type": "execute_result"
    }
   ],
   "source": [
    "woolf_tokens[:50]"
   ]
  },
  {
   "cell_type": "code",
   "execution_count": 9,
   "metadata": {},
   "outputs": [],
   "source": [
    "o_text = woolf_tokens"
   ]
  },
  {
   "cell_type": "code",
   "execution_count": 10,
   "metadata": {},
   "outputs": [],
   "source": [
    "o_text = o_text[872:]"
   ]
  },
  {
   "cell_type": "code",
   "execution_count": 11,
   "metadata": {},
   "outputs": [
    {
     "name": "stdout",
     "output_type": "stream",
     "text": [
      "['He', '--', 'for', 'there', 'could', 'be', 'no', 'doubt', 'of', 'his', 'sex', ',', 'though', 'the', 'fashion', 'of', 'the', 'time', 'did', 'something', 'to', 'disguise', 'it', '--', 'was', 'in', 'the', 'act', 'of', 'slicing', 'at', 'the', 'head', 'of', 'a', 'Moor', 'which', 'swung', 'from', 'the', 'rafters', '.', 'It', 'was', 'the', 'colour', 'of', 'an', 'old', 'football', ',', 'and', 'more', 'or', 'less', 'the', 'shape', 'of', 'one', ',', 'save', 'for', 'the', 'sunken', 'cheeks', 'and', 'a', 'strand', 'or', 'two', 'of', 'coarse', ',', 'dry', 'hair', ',', 'like', 'the', 'hair', 'on', 'a', 'cocoanut', '.', 'Orlando', \"'s\", 'father', ',', 'or', 'perhaps', 'his', 'grandfather', ',', 'had', 'struck', 'it', 'from', 'the', 'shoulders', 'of', 'a']\n"
     ]
    }
   ],
   "source": [
    "print(o_text[:100])"
   ]
  },
  {
   "cell_type": "code",
   "execution_count": 12,
   "metadata": {
    "scrolled": true
   },
   "outputs": [
    {
     "data": {
      "text/plain": [
       "list"
      ]
     },
     "execution_count": 12,
     "metadata": {},
     "output_type": "execute_result"
    }
   ],
   "source": [
    "type(o_text)"
   ]
  },
  {
   "cell_type": "markdown",
   "metadata": {},
   "source": [
    "# playing with stopwords"
   ]
  },
  {
   "cell_type": "code",
   "execution_count": 13,
   "metadata": {},
   "outputs": [],
   "source": [
    "from nltk.corpus import stopwords"
   ]
  },
  {
   "cell_type": "code",
   "execution_count": 14,
   "metadata": {},
   "outputs": [
    {
     "name": "stdout",
     "output_type": "stream",
     "text": [
      "['i', 'me', 'my', 'myself', 'we', 'our', 'ours', 'ourselves', 'you', \"you're\", \"you've\", \"you'll\", \"you'd\", 'your', 'yours', 'yourself', 'yourselves', 'he', 'him', 'his', 'himself', 'she', \"she's\", 'her', 'hers', 'herself', 'it', \"it's\", 'its', 'itself', 'they', 'them', 'their', 'theirs', 'themselves', 'what', 'which', 'who', 'whom', 'this', 'that', \"that'll\", 'these', 'those', 'am', 'is', 'are', 'was', 'were', 'be', 'been', 'being', 'have', 'has', 'had', 'having', 'do', 'does', 'did', 'doing', 'a', 'an', 'the', 'and', 'but', 'if', 'or', 'because', 'as', 'until', 'while', 'of', 'at', 'by', 'for', 'with', 'about', 'against', 'between', 'into', 'through', 'during', 'before', 'after', 'above', 'below', 'to', 'from', 'up', 'down', 'in', 'out', 'on', 'off', 'over', 'under', 'again', 'further', 'then', 'once', 'here', 'there', 'when', 'where', 'why', 'how', 'all', 'any', 'both', 'each', 'few', 'more', 'most', 'other', 'some', 'such', 'no', 'nor', 'not', 'only', 'own', 'same', 'so', 'than', 'too', 'very', 's', 't', 'can', 'will', 'just', 'don', \"don't\", 'should', \"should've\", 'now', 'd', 'll', 'm', 'o', 're', 've', 'y', 'ain', 'aren', \"aren't\", 'couldn', \"couldn't\", 'didn', \"didn't\", 'doesn', \"doesn't\", 'hadn', \"hadn't\", 'hasn', \"hasn't\", 'haven', \"haven't\", 'isn', \"isn't\", 'ma', 'mightn', \"mightn't\", 'mustn', \"mustn't\", 'needn', \"needn't\", 'shan', \"shan't\", 'shouldn', \"shouldn't\", 'wasn', \"wasn't\", 'weren', \"weren't\", 'won', \"won't\", 'wouldn', \"wouldn't\"]\n"
     ]
    }
   ],
   "source": [
    "stops = stopwords.words('english')\n",
    "print(stops)"
   ]
  },
  {
   "cell_type": "code",
   "execution_count": 15,
   "metadata": {},
   "outputs": [],
   "source": [
    "o_text_stops = []\n",
    "for t in o_text:\n",
    "    if t in stops:\n",
    "         o_text_stops.append(t)"
   ]
  },
  {
   "cell_type": "code",
   "execution_count": 16,
   "metadata": {},
   "outputs": [
    {
     "data": {
      "text/plain": [
       "38262"
      ]
     },
     "execution_count": 16,
     "metadata": {},
     "output_type": "execute_result"
    }
   ],
   "source": [
    "len(o_text_stops)"
   ]
  },
  {
   "cell_type": "code",
   "execution_count": 17,
   "metadata": {},
   "outputs": [
    {
     "name": "stdout",
     "output_type": "stream",
     "text": [
      "['for', 'there', 'be', 'no', 'of', 'his', 'the', 'of', 'the', 'did', 'to', 'it', 'was', 'in', 'the', 'of', 'at', 'the', 'of', 'a', 'which', 'from', 'the', 'was', 'the', 'of', 'an', 'and', 'more', 'or', 'the', 'of', 'for', 'the', 'and', 'a', 'or', 'of', 'the', 'on', 'a', 'or', 'his', 'had', 'it', 'from', 'the', 'of', 'a', 'who', 'had', 'up', 'under', 'the', 'in', 'the', 'of', 'and', 'now', 'it', 'in', 'the', 'which', 'through', 'the', 'of', 'the', 'of', 'the', 'who', 'had', 'him', 'had', 'in', 'of', 'and', 'and', 'by', 'and', 'they', 'had', 'of', 'off', 'and', 'them', 'to', 'from', 'the', 'too', 'he', 'he', 'was', 'only', 'and', 'too', 'to', 'with', 'them', 'in', 'or']\n"
     ]
    }
   ],
   "source": [
    "print(o_text_stops[:100])"
   ]
  },
  {
   "cell_type": "markdown",
   "metadata": {},
   "source": [
    "# NLTK object"
   ]
  },
  {
   "cell_type": "code",
   "execution_count": 18,
   "metadata": {},
   "outputs": [],
   "source": [
    "orl = nltk.Text(o_text)"
   ]
  },
  {
   "cell_type": "code",
   "execution_count": 19,
   "metadata": {},
   "outputs": [
    {
     "data": {
      "text/plain": [
       "<Text: He -- for there could be no doubt...>"
      ]
     },
     "execution_count": 19,
     "metadata": {},
     "output_type": "execute_result"
    }
   ],
   "source": [
    "orl"
   ]
  },
  {
   "cell_type": "markdown",
   "metadata": {},
   "source": [
    "# class nltk.text.Text"
   ]
  },
  {
   "cell_type": "code",
   "execution_count": 20,
   "metadata": {},
   "outputs": [
    {
     "name": "stdout",
     "output_type": "stream",
     "text": [
      "man moment night boy word world child pen ship door one room window\n",
      "light little lady table book queen king\n"
     ]
    }
   ],
   "source": [
    "orl.similar(\"woman\")"
   ]
  },
  {
   "cell_type": "code",
   "execution_count": 21,
   "metadata": {},
   "outputs": [
    {
     "name": "stdout",
     "output_type": "stream",
     "text": [
      "woman word lady moment night boy poet little sight time one house\n",
      "window life table thought tree queen world truth\n"
     ]
    }
   ],
   "source": [
    "orl.similar(\"man\")"
   ]
  },
  {
   "cell_type": "code",
   "execution_count": 22,
   "metadata": {},
   "outputs": [
    {
     "name": "stdout",
     "output_type": "stream",
     "text": [
      "woman man time book and house way window lady sky day word thing other\n",
      "world night river matter change room\n"
     ]
    }
   ],
   "source": [
    "orl.similar(\"moment\")"
   ]
  },
  {
   "cell_type": "code",
   "execution_count": 23,
   "metadata": {},
   "outputs": [
    {
     "name": "stdout",
     "output_type": "stream",
     "text": [
      "man book woman time poet lady sight change hair house turn thought\n",
      "moment fox queen child rest spirit more room\n"
     ]
    }
   ],
   "source": [
    "orl.similar(\"word\")"
   ]
  },
  {
   "cell_type": "code",
   "execution_count": 24,
   "metadata": {},
   "outputs": [
    {
     "name": "stdout",
     "output_type": "stream",
     "text": [
      "table woman head house room river matter air floor window hand legs\n",
      "face trees sky other moment ship heart finger\n"
     ]
    }
   ],
   "source": [
    "orl.similar(\"pen\")"
   ]
  },
  {
   "cell_type": "code",
   "execution_count": 25,
   "metadata": {},
   "outputs": [
    {
     "name": "stdout",
     "output_type": "stream",
     "text": [
      "park man room sky word queen time and house air lady table age other\n",
      "world sight question pavement one hair\n"
     ]
    }
   ],
   "source": [
    "orl.similar(\"poet\")"
   ]
  },
  {
   "cell_type": "code",
   "execution_count": 26,
   "metadata": {
    "scrolled": true
   },
   "outputs": [
    {
     "name": "stdout",
     "output_type": "stream",
     "text": [
      "it orlando ride go turn do nature come say speak truth give rest try\n",
      "cover meet return veil explain dine\n"
     ]
    }
   ],
   "source": [
    "orl.similar(\"speculate\")"
   ]
  },
  {
   "cell_type": "code",
   "execution_count": 84,
   "metadata": {},
   "outputs": [
    {
     "data": {
      "text/plain": [
       "['child', 'pen', 'ship', 'door', 'room', 'light', 'book', 'king']"
      ]
     },
     "execution_count": 84,
     "metadata": {},
     "output_type": "execute_result"
    }
   ],
   "source": [
    "# distinct words for woman using Text.similar()\n",
    "woman = \"child pen ship door room light book king\"\n",
    "woman_list = woman.split(\" \")\n",
    "woman_list"
   ]
  },
  {
   "cell_type": "code",
   "execution_count": 85,
   "metadata": {},
   "outputs": [
    {
     "data": {
      "text/plain": [
       "['poet', 'sight', 'time', 'house', 'life', 'thought', 'tree', 'truth']"
      ]
     },
     "execution_count": 85,
     "metadata": {},
     "output_type": "execute_result"
    }
   ],
   "source": [
    "# distinct words for man using Text.similar()\n",
    "man = \"poet sight time house life thought tree truth\"\n",
    "man_list = man.split(\" \")\n",
    "man_list"
   ]
  },
  {
   "cell_type": "code",
   "execution_count": null,
   "metadata": {},
   "outputs": [],
   "source": [
    "# now that I have these lists of distinctive similar words, how might I explore them further?\n",
    "# I could see what other words are similar to the above -- should i look further at contexts of the following words?\n"
   ]
  },
  {
   "cell_type": "markdown",
   "metadata": {},
   "source": [
    "# class nltk.text.ContextIndex"
   ]
  },
  {
   "cell_type": "code",
   "execution_count": 55,
   "metadata": {},
   "outputs": [
    {
     "data": {
      "text/plain": [
       "['man',\n",
       " 'moment',\n",
       " 'boy',\n",
       " 'little',\n",
       " 'lover',\n",
       " 'house',\n",
       " 'girl',\n",
       " 'poet',\n",
       " 'child',\n",
       " 'thought',\n",
       " 'lady',\n",
       " 'fox',\n",
       " 'then',\n",
       " 'Duke',\n",
       " 'summer',\n",
       " 'tree',\n",
       " 'gipsy',\n",
       " 'shadow',\n",
       " 'fat',\n",
       " 'trance']"
      ]
     },
     "execution_count": 55,
     "metadata": {},
     "output_type": "execute_result"
    }
   ],
   "source": [
    "# to make these lists of distictive similar words automatically, use ContextIndex\n",
    "# create a list of similar words for woman\n",
    "# in order to create a list object, I need to use nltk.text.ContextIndex, rather than a Text object\n",
    "idx = nltk.text.ContextIndex(orl)\n",
    "woman_words = idx.similar_words(\"woman\")\n",
    "woman_words"
   ]
  },
  {
   "cell_type": "code",
   "execution_count": 57,
   "metadata": {},
   "outputs": [
    {
     "data": {
      "text/plain": [
       "['woman',\n",
       " 'moment',\n",
       " 'boy',\n",
       " 'house',\n",
       " 'poet',\n",
       " 'little',\n",
       " 'word',\n",
       " 'lover',\n",
       " 'pair',\n",
       " 'thought',\n",
       " 'lady',\n",
       " 'child',\n",
       " 'score',\n",
       " 'summer',\n",
       " 'time',\n",
       " 'night',\n",
       " 'life',\n",
       " 'river',\n",
       " 'it',\n",
       " 'girl']"
      ]
     },
     "execution_count": 57,
     "metadata": {},
     "output_type": "execute_result"
    }
   ],
   "source": [
    "man_words = idx.similar_words(\"man\")\n",
    "man_words"
   ]
  },
  {
   "cell_type": "code",
   "execution_count": 70,
   "metadata": {},
   "outputs": [
    {
     "data": {
      "text/plain": [
       "{'He': 0,\n",
       " '--': 0.003738317757009346,\n",
       " 'for': 0,\n",
       " 'there': 0.007194244604316547,\n",
       " 'could': 0,\n",
       " 'be': 0,\n",
       " 'no': 0,\n",
       " 'doubt': 0.018867924528301886,\n",
       " 'of': 0,\n",
       " 'his': 0,\n",
       " 'sex': 0.03333333333333333,\n",
       " ',': 0.0007142857142857143,\n",
       " 'though': 0,\n",
       " 'the': 0,\n",
       " 'fashion': 0,\n",
       " 'time': 0.043243243243243246,\n",
       " 'did': 0,\n",
       " 'something': 0,\n",
       " 'to': 0,\n",
       " 'disguise': 0,\n",
       " 'it': 0.0031007751937984496,\n",
       " 'was': 0,\n",
       " 'in': 0,\n",
       " 'act': 0,\n",
       " 'slicing': 0,\n",
       " 'at': 0,\n",
       " 'head': 0.047244094488188976,\n",
       " 'a': 0,\n",
       " 'Moor': 0.02127659574468085,\n",
       " 'which': 0,\n",
       " 'swung': 0,\n",
       " 'from': 0,\n",
       " 'rafters': 0,\n",
       " '.': 0,\n",
       " 'It': 0,\n",
       " 'colour': 0.041237113402061855,\n",
       " 'an': 0,\n",
       " 'old': 0.012578616352201259,\n",
       " 'football': 0.022727272727272728,\n",
       " 'and': 0,\n",
       " 'more': 0.03137254901960784,\n",
       " 'or': 0,\n",
       " 'less': 0.017094017094017096,\n",
       " 'shape': 0,\n",
       " 'one': 0.021505376344086023,\n",
       " 'save': 0,\n",
       " 'sunken': 0,\n",
       " 'cheeks': 0,\n",
       " 'strand': 0,\n",
       " 'two': 0.012578616352201259,\n",
       " 'coarse': 0.021739130434782608,\n",
       " 'dry': 0,\n",
       " 'hair': 0.017699115044247787,\n",
       " 'like': 0,\n",
       " 'on': 0,\n",
       " 'cocoanut': 0.022727272727272728,\n",
       " 'Orlando': 0.019704433497536946,\n",
       " \"'s\": 0,\n",
       " 'father': 0,\n",
       " 'perhaps': 0.014814814814814815,\n",
       " 'grandfather': 0,\n",
       " 'had': 0,\n",
       " 'struck': 0,\n",
       " 'shoulders': 0,\n",
       " 'vast': 0.017543859649122806,\n",
       " 'Pagan': 0,\n",
       " 'who': 0.008583690987124463,\n",
       " 'started': 0,\n",
       " 'up': 0,\n",
       " 'under': 0,\n",
       " 'moon': 0.06,\n",
       " 'barbarian': 0,\n",
       " 'fields': 0.0392156862745098,\n",
       " 'Africa': 0.02247191011235955,\n",
       " ';': 0,\n",
       " 'now': 0.006756756756756757,\n",
       " 'gently': 0,\n",
       " 'perpetually': 0,\n",
       " 'breeze': 0,\n",
       " 'never': 0,\n",
       " 'ceased': 0,\n",
       " 'blowing': 0,\n",
       " 'through': 0.013071895424836602,\n",
       " 'attic': 0,\n",
       " 'rooms': 0,\n",
       " 'gigantic': 0,\n",
       " 'house': 0.04137931034482759,\n",
       " 'lord': 0.022727272727272728,\n",
       " 'slain': 0,\n",
       " 'him': 0,\n",
       " 'fathers': 0,\n",
       " 'ridden': 0,\n",
       " 'asphodel': 0,\n",
       " 'stony': 0,\n",
       " 'watered': 0,\n",
       " 'by': 0,\n",
       " 'strange': 0,\n",
       " 'rivers': 0,\n",
       " 'they': 0,\n",
       " 'many': 0,\n",
       " 'heads': 0,\n",
       " 'colours': 0,\n",
       " 'off': 0,\n",
       " 'brought': 0,\n",
       " 'them': 0,\n",
       " 'back': 0,\n",
       " 'hang': 0,\n",
       " 'So': 0,\n",
       " 'too': 0,\n",
       " 'would': 0,\n",
       " 'he': 0,\n",
       " 'vowed': 0,\n",
       " 'But': 0,\n",
       " 'since': 0,\n",
       " 'sixteen': 0,\n",
       " 'only': 0,\n",
       " 'young': 0.016129032258064516,\n",
       " 'ride': 0,\n",
       " 'with': 0,\n",
       " 'France': 0.022222222222222223,\n",
       " 'steal': 0,\n",
       " 'away': 0,\n",
       " 'mother': 0.02127659574468085,\n",
       " 'peacocks': 0.022222222222222223,\n",
       " 'garden': 0.02,\n",
       " 'go': 0,\n",
       " 'room': 0.03007518796992481,\n",
       " 'lunge': 0,\n",
       " 'plunge': 0,\n",
       " 'slice': 0,\n",
       " 'air': 0.01834862385321101,\n",
       " 'blade': 0,\n",
       " 'Sometimes': 0,\n",
       " 'cut': 0,\n",
       " 'cord': 0,\n",
       " 'so': 0.016713091922005572,\n",
       " 'that': 0.004469273743016759,\n",
       " 'skull': 0,\n",
       " 'bumped': 0,\n",
       " 'floor': 0.020618556701030927,\n",
       " 'string': 0,\n",
       " 'again': 0.023121387283236993,\n",
       " 'fastening': 0,\n",
       " 'some': 0,\n",
       " 'chivalry': 0,\n",
       " 'almost': 0,\n",
       " 'out': 0.007067137809187279,\n",
       " 'reach': 0,\n",
       " 'enemy': 0,\n",
       " 'grinned': 0,\n",
       " 'shrunk': 0,\n",
       " 'black': 0,\n",
       " 'lips': 0,\n",
       " 'triumphantly': 0,\n",
       " 'The': 0,\n",
       " 'fro': 0.02247191011235955,\n",
       " 'top': 0,\n",
       " 'lived': 0,\n",
       " 'seemed': 0,\n",
       " 'trapped': 0,\n",
       " 'wind': 0.038461538461538464,\n",
       " 'itself': 0,\n",
       " 'this': 0,\n",
       " 'way': 0.04109589041095891,\n",
       " 'winter': 0.04040404040404041,\n",
       " 'summer': 0.057692307692307696,\n",
       " 'green': 0.01652892561983471,\n",
       " 'arras': 0.021739130434782608,\n",
       " 'hunters': 0,\n",
       " 'moved': 0,\n",
       " 'His': 0,\n",
       " 'been': 0,\n",
       " 'noble': 0,\n",
       " 'all': 0.005714285714285714,\n",
       " 'They': 0,\n",
       " 'came': 0,\n",
       " 'northern': 0,\n",
       " 'mists': 0,\n",
       " 'wearing': 0,\n",
       " 'coronets': 0,\n",
       " 'their': 0,\n",
       " 'Were': 0,\n",
       " 'not': 0,\n",
       " 'bars': 0,\n",
       " 'darkness': 0.05357142857142857,\n",
       " 'yellow': 0.018518518518518517,\n",
       " 'pools': 0,\n",
       " 'chequered': 0,\n",
       " 'made': 0,\n",
       " 'sun': 0.018691588785046728,\n",
       " 'falling': 0,\n",
       " 'stained': 0,\n",
       " 'glass': 0.018518518518518517,\n",
       " 'coat': 0,\n",
       " 'arms': 0,\n",
       " 'window': 0.03571428571428571,\n",
       " '?': 0,\n",
       " 'stood': 0.0136986301369863,\n",
       " 'midst': 0,\n",
       " 'body': 0.03773584905660377,\n",
       " 'heraldic': 0,\n",
       " 'leopard': 0,\n",
       " 'When': 0,\n",
       " 'put': 0,\n",
       " 'hand': 0.038461538461538464,\n",
       " 'window-sill': 0.06666666666666667,\n",
       " 'push': 0,\n",
       " 'open': 0,\n",
       " 'instantly': 0,\n",
       " 'coloured': 0,\n",
       " 'red': 0.03418803418803419,\n",
       " 'blue': 0.02,\n",
       " 'butterfly': 0.044444444444444446,\n",
       " 'wing': 0,\n",
       " 'Thus': 0,\n",
       " 'those': 0.013245033112582781,\n",
       " 'symbols': 0,\n",
       " 'have': 0,\n",
       " 'turn': 0.01904761904761905,\n",
       " 'deciphering': 0,\n",
       " 'might': 0.013888888888888888,\n",
       " 'observe': 0,\n",
       " 'shapely': 0,\n",
       " 'legs': 0,\n",
       " 'handsome': 0.043478260869565216,\n",
       " 'well-set': 0,\n",
       " 'were': 0,\n",
       " 'decorated': 0,\n",
       " 'various': 0,\n",
       " 'tints': 0,\n",
       " 'light': 0.015873015873015872,\n",
       " 'face': 0.03418803418803419,\n",
       " 'as': 0,\n",
       " 'threw': 0,\n",
       " 'lit': 0.0196078431372549,\n",
       " 'solely': 0,\n",
       " 'A': 0,\n",
       " 'candid': 0,\n",
       " 'sullen': 0,\n",
       " 'impossible': 0.020618556701030927,\n",
       " 'find': 0,\n",
       " 'Happy': 0,\n",
       " 'bears': 0,\n",
       " 'happier': 0,\n",
       " 'still': 0.011494252873563218,\n",
       " 'biographer': 0.07766990291262135,\n",
       " 'records': 0,\n",
       " 'life': 0,\n",
       " 'such': 0,\n",
       " '!': 0,\n",
       " 'Never': 0,\n",
       " 'need': 0,\n",
       " 'she': 0.005405405405405406,\n",
       " 'vex': 0,\n",
       " 'herself': 0,\n",
       " 'nor': 0,\n",
       " 'invoke': 0,\n",
       " 'help': 0,\n",
       " 'novelist': 0.02197802197802198,\n",
       " 'poet': 0.1217391304347826,\n",
       " 'From': 0,\n",
       " 'deed': 0,\n",
       " 'glory': 0,\n",
       " 'office': 0,\n",
       " 'must': 0,\n",
       " 'scribe': 0,\n",
       " 'following': 0,\n",
       " 'after': 0,\n",
       " 'till': 0,\n",
       " 'whatever': 0,\n",
       " 'seat': 0,\n",
       " 'may': 0,\n",
       " 'is': 0,\n",
       " 'height': 0,\n",
       " 'desire': 0.0196078431372549,\n",
       " 'look': 0,\n",
       " 'precisely': 0,\n",
       " 'career': 0,\n",
       " 'covered': 0,\n",
       " 'peach': 0,\n",
       " 'down': 0.009569377990430622,\n",
       " 'little': 0.031746031746031744,\n",
       " 'thicker': 0,\n",
       " 'than': 0,\n",
       " 'themselves': 0,\n",
       " 'short': 0,\n",
       " 'slightly': 0,\n",
       " 'drawn': 0,\n",
       " 'over': 0.010638297872340425,\n",
       " 'teeth': 0.020202020202020204,\n",
       " 'exquisite': 0,\n",
       " 'almond': 0,\n",
       " 'whiteness': 0,\n",
       " 'Nothing': 0,\n",
       " 'disturbed': 0,\n",
       " 'arrowy': 0,\n",
       " 'nose': 0,\n",
       " 'its': 0,\n",
       " 'tense': 0,\n",
       " 'flight': 0,\n",
       " 'dark': 0.03076923076923077,\n",
       " 'ears': 0,\n",
       " 'small': 0.02,\n",
       " 'fitted': 0,\n",
       " 'closely': 0,\n",
       " 'alas': 0,\n",
       " 'these': 0,\n",
       " 'catalogues': 0,\n",
       " 'youthful': 0,\n",
       " 'beauty': 0.02,\n",
       " 'can': 0,\n",
       " 'end': 0.01834862385321101,\n",
       " 'without': 0,\n",
       " 'mentioning': 0,\n",
       " 'forehead': 0.02,\n",
       " 'eyes': 0.013986013986013986,\n",
       " 'Alas': 0,\n",
       " 'people': 0.04081632653061224,\n",
       " 'are': 0,\n",
       " 'seldom': 0,\n",
       " 'born': 0,\n",
       " 'devoid': 0,\n",
       " 'three': 0,\n",
       " 'directly': 0,\n",
       " 'we': 0,\n",
       " 'glance': 0,\n",
       " 'standing': 0,\n",
       " 'admit': 0,\n",
       " 'drenched': 0,\n",
       " 'violets': 0,\n",
       " 'large': 0,\n",
       " 'water': 0,\n",
       " 'brimmed': 0,\n",
       " 'widened': 0.02197802197802198,\n",
       " 'brow': 0,\n",
       " 'swelling': 0,\n",
       " 'marble': 0,\n",
       " 'dome': 0,\n",
       " 'pressed': 0,\n",
       " 'between': 0,\n",
       " 'blank': 0,\n",
       " 'medallions': 0,\n",
       " 'temples': 0,\n",
       " 'Directly': 0,\n",
       " 'thus': 0.017241379310344827,\n",
       " 'do': 0,\n",
       " 'rhapsodize': 0,\n",
       " 'thousand': 0.01652892561983471,\n",
       " 'disagreeables': 0,\n",
       " 'aim': 0,\n",
       " 'every': 0,\n",
       " 'good': 0.017241379310344827,\n",
       " 'ignore': 0,\n",
       " 'Sights': 0,\n",
       " 'very': 0,\n",
       " 'beautiful': 0.042105263157894736,\n",
       " 'lady': 0.08547008547008547,\n",
       " 'walking': 0,\n",
       " 'feed': 0,\n",
       " 'Twitchett': 0,\n",
       " 'her': 0,\n",
       " 'maid': 0,\n",
       " 'behind': 0,\n",
       " 'sights': 0,\n",
       " 'exalted': 0,\n",
       " 'birds': 0.020618556701030927,\n",
       " 'trees': 0.01639344262295082,\n",
       " 'love': 0,\n",
       " 'death': 0.01694915254237288,\n",
       " 'evening': 0.018867924528301886,\n",
       " 'sky': 0.034482758620689655,\n",
       " 'homing': 0,\n",
       " 'rooks': 0,\n",
       " 'mounting': 0,\n",
       " 'spiral': 0,\n",
       " 'stairway': 0,\n",
       " 'into': 0,\n",
       " 'brain': 0,\n",
       " 'roomy': 0,\n",
       " 'sounds': 0,\n",
       " 'hammer': 0.022222222222222223,\n",
       " 'beating': 0,\n",
       " 'wood': 0.04081632653061224,\n",
       " 'chopping': 0,\n",
       " 'began': 0,\n",
       " 'riot': 0,\n",
       " 'confusion': 0.021505376344086023,\n",
       " 'passions': 0,\n",
       " 'emotions': 0,\n",
       " 'detests': 0,\n",
       " 'continue': 0,\n",
       " 'slowly': 0,\n",
       " 'drew': 0,\n",
       " 'sat': 0,\n",
       " 'table': 0.03508771929824561,\n",
       " 'half-conscious': 0,\n",
       " 'doing': 0,\n",
       " 'what': 0,\n",
       " 'day': 0.013986013986013986,\n",
       " 'lives': 0,\n",
       " 'hour': 0.018691588785046728,\n",
       " 'took': 0,\n",
       " 'writing': 0,\n",
       " 'book': 0.05217391304347826,\n",
       " 'labelled': 0,\n",
       " \"'Aethelbert\": 0,\n",
       " ':': 0,\n",
       " 'Tragedy': 0.02247191011235955,\n",
       " 'Five': 0,\n",
       " 'Acts': 0,\n",
       " \"'\": 0.006024096385542169,\n",
       " 'dipped': 0,\n",
       " 'goose': 0,\n",
       " 'quill': 0.021739130434782608,\n",
       " 'ink': 0.0196078431372549,\n",
       " 'Soon': 0,\n",
       " 'ten': 0.018867924528301886,\n",
       " 'pages': 0.021052631578947368,\n",
       " 'poetry': 0,\n",
       " 'fluent': 0,\n",
       " 'evidently': 0,\n",
       " 'but': 0,\n",
       " 'abstract': 0,\n",
       " 'Vice': 0,\n",
       " 'Crime': 0,\n",
       " 'Misery': 0,\n",
       " 'personages': 0,\n",
       " 'drama': 0,\n",
       " 'Kings': 0,\n",
       " 'Queens': 0,\n",
       " 'territories': 0,\n",
       " 'horrid': 0,\n",
       " 'plots': 0,\n",
       " 'confounded': 0,\n",
       " 'sentiments': 0,\n",
       " 'suffused': 0,\n",
       " 'word': 0.10344827586206898,\n",
       " 'said': 0.01098901098901099,\n",
       " 'himself': 0,\n",
       " 'turned': 0,\n",
       " 'fluency': 0.022222222222222223,\n",
       " 'sweetness': 0,\n",
       " 'considering': 0,\n",
       " 'age': 0.01680672268907563,\n",
       " 'yet': 0.014814814814814815,\n",
       " 'seventeen': 0,\n",
       " 'sixteenth': 0.02247191011235955,\n",
       " 'century': 0.020202020202020204,\n",
       " 'years': 0.015748031496062992,\n",
       " 'course': 0,\n",
       " 'run': 0,\n",
       " 'remarkable': 0,\n",
       " 'enough': 0,\n",
       " 'At': 0,\n",
       " 'last': 0.018518518518518517,\n",
       " 'however': 0,\n",
       " 'halt': 0.022727272727272728,\n",
       " 'describing': 0,\n",
       " 'poets': 0.019230769230769232,\n",
       " 'ever': 0,\n",
       " 'nature': 0.03305785123966942,\n",
       " 'order': 0,\n",
       " 'match': 0,\n",
       " 'shade': 0,\n",
       " 'looked': 0,\n",
       " '(': 0,\n",
       " 'here': 0.012345679012345678,\n",
       " 'showed': 0,\n",
       " 'audacity': 0,\n",
       " 'most': 0,\n",
       " ')': 0,\n",
       " 'thing': 0.01818181818181818,\n",
       " 'happened': 0,\n",
       " 'laurel': 0,\n",
       " 'bush': 0,\n",
       " 'growing': 0,\n",
       " 'beneath': 0,\n",
       " 'After': 0,\n",
       " 'write': 0.01680672268907563,\n",
       " 'Green': 0,\n",
       " 'literature': 0,\n",
       " 'another': 0.023391812865497075,\n",
       " 'Nature': 0,\n",
       " 'letters': 0,\n",
       " 'seem': 0,\n",
       " 'natural': 0,\n",
       " 'antipathy': 0,\n",
       " 'bring': 0,\n",
       " 'together': 0,\n",
       " 'tear': 0,\n",
       " 'each': 0,\n",
       " 'other': 0.046511627906976744,\n",
       " 'pieces': 0,\n",
       " 'saw': 0.043478260869565216,\n",
       " 'spoilt': 0,\n",
       " 'rhyme': 0.02127659574468085,\n",
       " 'split': 0,\n",
       " 'metre': 0,\n",
       " 'Moreover': 0,\n",
       " 'has': 0,\n",
       " 'tricks': 0,\n",
       " 'own': 0,\n",
       " 'Once': 0,\n",
       " 'bees': 0.021739130434782608,\n",
       " 'among': 0,\n",
       " 'flowers': 0.04,\n",
       " 'yawning': 0,\n",
       " 'dog': 0.04040404040404041,\n",
       " 'setting': 0,\n",
       " 'once': 0,\n",
       " 'think': 0,\n",
       " \"'how\": 0,\n",
       " 'suns': 0,\n",
       " 'shall': 0,\n",
       " 'I': 0,\n",
       " 'see': 0,\n",
       " 'set': 0,\n",
       " 'etc': 0,\n",
       " 'thought': 0.03614457831325302,\n",
       " 'well': 0.017699115044247787,\n",
       " 'known': 0,\n",
       " 'worth': 0,\n",
       " 'drops': 0,\n",
       " 'pen': 0.07207207207207207,\n",
       " 'takes': 0,\n",
       " 'cloak': 0.0380952380952381,\n",
       " 'strides': 0,\n",
       " 'catches': 0,\n",
       " 'foot': 0.018691588785046728,\n",
       " 'painted': 0,\n",
       " 'chest': 0.04395604395604396,\n",
       " 'does': 0,\n",
       " 'For': 0,\n",
       " 'trifle': 0,\n",
       " 'clumsy': 0,\n",
       " 'careful': 0,\n",
       " 'avoid': 0,\n",
       " 'meeting': 0,\n",
       " 'anyone': 0,\n",
       " 'There': 0,\n",
       " 'Stubbs': 0,\n",
       " 'gardener': 0.022727272727272728,\n",
       " 'coming': 0,\n",
       " 'along': 0,\n",
       " 'path': 0.041666666666666664,\n",
       " 'hid': 0,\n",
       " 'tree': 0.031496062992125984,\n",
       " 'passed': 0,\n",
       " 'let': 0,\n",
       " 'gate': 0.021505376344086023,\n",
       " 'wall': 0,\n",
       " 'skirted': 0,\n",
       " 'stables': 0,\n",
       " 'kennels': 0,\n",
       " 'breweries': 0,\n",
       " 'carpenters': 0,\n",
       " 'shops': 0,\n",
       " 'washhouses': 0,\n",
       " 'places': 0,\n",
       " 'where': 0,\n",
       " 'make': 0,\n",
       " 'tallow': 0,\n",
       " 'candles': 0,\n",
       " 'kill': 0,\n",
       " 'oxen': 0,\n",
       " 'forge': 0,\n",
       " 'horse-shoes': 0,\n",
       " 'stitch': 0,\n",
       " 'jerkins': 0,\n",
       " 'town': 0.058252427184466014,\n",
       " 'ringing': 0,\n",
       " 'men': 0.04081632653061224,\n",
       " 'work': 0,\n",
       " 'crafts': 0,\n",
       " 'gained': 0,\n",
       " 'ferny': 0,\n",
       " 'leading': 0,\n",
       " 'uphill': 0,\n",
       " 'park': 0.02040816326530612,\n",
       " 'unseen': 0,\n",
       " 'kinship': 0,\n",
       " 'qualities': 0,\n",
       " 'draws': 0,\n",
       " 'should': 0,\n",
       " 'call': 0,\n",
       " 'attention': 0,\n",
       " 'fact': 0.019230769230769232,\n",
       " 'clumsiness': 0,\n",
       " 'often': 0.01652892561983471,\n",
       " 'mated': 0,\n",
       " 'solitude': 0.020202020202020204,\n",
       " 'Having': 0,\n",
       " 'stumbled': 0,\n",
       " 'naturally': 0,\n",
       " 'loved': 0.019801980198019802,\n",
       " 'solitary': 0,\n",
       " 'views': 0,\n",
       " 'feel': 0,\n",
       " 'alone': 0,\n",
       " 'long': 0.02702702702702703,\n",
       " 'silence': 0,\n",
       " 'am': 0,\n",
       " 'breathed': 0,\n",
       " 'opening': 0,\n",
       " 'first': 0,\n",
       " 'record': 0,\n",
       " 'walked': 0,\n",
       " 'quickly': 0,\n",
       " 'ferns': 0,\n",
       " 'hawthorn': 0,\n",
       " 'bushes': 0,\n",
       " 'startling': 0,\n",
       " 'deer': 0.020833333333333332,\n",
       " 'wild': 0.017543859649122806,\n",
       " 'place': 0,\n",
       " 'crowned': 0,\n",
       " 'single': 0.018691588785046728,\n",
       " 'oak': 0,\n",
       " 'high': 0,\n",
       " 'indeed': 0.01680672268907563,\n",
       " 'nineteen': 0,\n",
       " 'English': 0,\n",
       " 'counties': 0,\n",
       " 'seen': 0,\n",
       " 'clear': 0,\n",
       " 'days': 0.01818181818181818,\n",
       " 'thirty': 0.020202020202020204,\n",
       " 'forty': 0,\n",
       " 'if': 0,\n",
       " 'weather': 0,\n",
       " 'fine': 0.015748031496062992,\n",
       " 'Channel': 0,\n",
       " 'wave': 0,\n",
       " 'reiterating': 0,\n",
       " 'upon': 0,\n",
       " 'Rivers': 0,\n",
       " 'pleasure': 0.041666666666666664,\n",
       " 'boats': 0,\n",
       " 'gliding': 0,\n",
       " 'galleons': 0,\n",
       " 'sea': 0.017699115044247787,\n",
       " 'armadas': 0,\n",
       " 'puffs': 0,\n",
       " 'smoke': 0,\n",
       " 'dull': 0,\n",
       " 'thud': 0,\n",
       " 'cannon': 0.021739130434782608,\n",
       " 'firing': 0,\n",
       " 'forts': 0,\n",
       " 'coast': 0,\n",
       " 'castles': 0,\n",
       " 'meadows': 0,\n",
       " 'watch': 0,\n",
       " 'tower': 0,\n",
       " 'fortress': 0,\n",
       " 'mansion': 0,\n",
       " 'massed': 0,\n",
       " 'valley': 0.022222222222222223,\n",
       " 'circled': 0,\n",
       " 'walls': 0,\n",
       " 'To': 0,\n",
       " 'east': 0,\n",
       " 'spires': 0,\n",
       " 'London': 0,\n",
       " 'city': 0.02,\n",
       " 'line': 0.06185567010309278,\n",
       " 'when': 0.008264462809917356,\n",
       " 'right': 0.03508771929824561,\n",
       " 'quarter': 0,\n",
       " 'craggy': 0,\n",
       " 'serrated': 0,\n",
       " 'edges': 0,\n",
       " 'Snowdon': 0,\n",
       " 'mountainous': 0,\n",
       " 'clouds': 0,\n",
       " 'moment': 0.1550387596899225,\n",
       " 'counting': 0,\n",
       " 'gazing': 0,\n",
       " 'recognizing': 0,\n",
       " 'That': 0,\n",
       " 'uncle': 0,\n",
       " 'aunt': 0,\n",
       " 'owned': 0,\n",
       " 'great': 0,\n",
       " 'turrets': 0,\n",
       " 'heath': 0,\n",
       " 'theirs': 0,\n",
       " 'forest': 0,\n",
       " 'pheasant': 0,\n",
       " 'fox': 0.06382978723404256,\n",
       " 'badger': 0.022727272727272728,\n",
       " 'sighed': 0,\n",
       " 'profoundly': 0,\n",
       " 'flung': 0,\n",
       " 'passion': 0.04081632653061224,\n",
       " 'movements': 0,\n",
       " 'deserves': 0,\n",
       " 'earth': 0.0380952380952381,\n",
       " 'transiency': 0,\n",
       " \"earth's\": 0,\n",
       " 'spine': 0,\n",
       " 'hard': 0,\n",
       " 'root': 0,\n",
       " 'image': 0,\n",
       " 'followed': 0,\n",
       " 'horse': 0.038834951456310676,\n",
       " 'riding': 0,\n",
       " 'deck': 0,\n",
       " 'tumbling': 0,\n",
       " 'ship': 0.05405405405405406,\n",
       " 'anything': 0.019801980198019802,\n",
       " 'felt': 0,\n",
       " 'attach': 0,\n",
       " 'floating': 0.02197802197802198,\n",
       " 'heart': 0.05084745762711864,\n",
       " 'tugged': 0,\n",
       " 'side': 0,\n",
       " 'filled': 0,\n",
       " 'spiced': 0,\n",
       " 'amorous': 0,\n",
       " 'gales': 0,\n",
       " 'about': 0,\n",
       " 'tied': 0,\n",
       " 'lay': 0,\n",
       " 'gradually': 0,\n",
       " 'flutter': 0.02247191011235955,\n",
       " 'stilled': 0,\n",
       " 'leaves': 0,\n",
       " 'hung': 0,\n",
       " 'stopped': 0,\n",
       " 'pale': 0,\n",
       " 'stayed': 0,\n",
       " 'limbs': 0,\n",
       " 'grew': 0,\n",
       " 'heavy': 0,\n",
       " 'ground': 0.0196078431372549,\n",
       " 'degrees': 0,\n",
       " 'stepped': 0,\n",
       " 'nearer': 0.02040816326530612,\n",
       " 'wheeled': 0,\n",
       " 'round': 0.015873015873015872,\n",
       " 'swallows': 0,\n",
       " 'dragonflies': 0,\n",
       " 'shot': 0,\n",
       " 'past': 0,\n",
       " 'fertility': 0,\n",
       " 'activity': 0,\n",
       " 'woven': 0,\n",
       " 'web-like': 0,\n",
       " 'rapidly': 0,\n",
       " 'sinking': 0,\n",
       " 'white': 0,\n",
       " 'hills': 0.041666666666666664,\n",
       " 'violet': 0,\n",
       " 'woods': 0.04081632653061224,\n",
       " 'purple': 0,\n",
       " 'valleys': 0,\n",
       " 'trumpet': 0,\n",
       " 'sounded': 0,\n",
       " 'leapt': 0,\n",
       " 'feet': 0,\n",
       " 'shrill': 0,\n",
       " 'sound': 0.019417475728155338,\n",
       " 'spot': 0,\n",
       " 'compact': 0,\n",
       " 'mapped': 0,\n",
       " 'maze': 0.02247191011235955,\n",
       " 'girt': 0,\n",
       " 'before': 0,\n",
       " 'even': 0,\n",
       " 'duplicated': 0,\n",
       " 'reduplicated': 0,\n",
       " 'shriller': 0,\n",
       " 'lost': 0.019417475728155338,\n",
       " 'became': 0,\n",
       " 'pierced': 0,\n",
       " 'lights': 0.02,\n",
       " 'Some': 0,\n",
       " 'hurrying': 0,\n",
       " 'servants': 0.04,\n",
       " 'dashed': 0,\n",
       " 'corridors': 0,\n",
       " 'answer': 0,\n",
       " 'summonses': 0,\n",
       " 'others': 0.03418803418803419,\n",
       " 'lustrous': 0,\n",
       " 'burnt': 0,\n",
       " 'empty': 0,\n",
       " 'banqueting-halls': 0.02247191011235955,\n",
       " 'ready': 0.020618556701030927,\n",
       " 'receive': 0,\n",
       " 'guests': 0.021739130434782608,\n",
       " 'come': 0,\n",
       " 'waved': 0,\n",
       " 'sank': 0,\n",
       " 'rose': 0.031007751937984496,\n",
       " 'held': 0,\n",
       " 'hands': 0,\n",
       " 'troops': 0,\n",
       " 'serving': 0,\n",
       " 'bending': 0,\n",
       " 'kneeling': 0,\n",
       " 'rising': 0.020202020202020204,\n",
       " 'receiving': 0,\n",
       " 'guarding': 0,\n",
       " 'escorting': 0,\n",
       " 'dignity': 0,\n",
       " 'indoors': 0,\n",
       " 'Princess': 0.019417475728155338,\n",
       " 'alighting': 0,\n",
       " 'chariot': 0,\n",
       " 'Coaches': 0,\n",
       " 'courtyard': 0.0425531914893617,\n",
       " 'Horses': 0,\n",
       " 'tossed': 0,\n",
       " 'plumes': 0,\n",
       " 'Queen': 0.047619047619047616,\n",
       " 'downhill': 0,\n",
       " 'wicket': 0,\n",
       " 'tore': 0,\n",
       " 'winding': 0,\n",
       " 'staircase': 0.02127659574468085,\n",
       " 'reached': 0.0196078431372549,\n",
       " 'stockings': 0,\n",
       " 'jerkin': 0,\n",
       " 'scoured': 0,\n",
       " 'pared': 0,\n",
       " 'finger': 0.03669724770642202,\n",
       " 'nails': 0,\n",
       " 'With': 0,\n",
       " 'six': 0.017241379310344827,\n",
       " 'inches': 0,\n",
       " 'looking-glass': 0.021739130434782608,\n",
       " 'pair': 0,\n",
       " 'thrust': 0,\n",
       " 'crimson': 0,\n",
       " 'breeches': 0,\n",
       " 'lace': 0.020833333333333332,\n",
       " 'collar': 0,\n",
       " 'waistcoat': 0,\n",
       " 'taffeta': 0,\n",
       " 'shoes': 0,\n",
       " 'rosettes': 0,\n",
       " 'big': 0,\n",
       " 'double': 0,\n",
       " 'dahlias': 0,\n",
       " 'minutes': 0,\n",
       " 'stable': 0.02247191011235955,\n",
       " 'clock': 0,\n",
       " 'flushed': 0,\n",
       " 'excited': 0,\n",
       " 'terribly': 0,\n",
       " 'late': 0,\n",
       " 'By': 0,\n",
       " 'cuts': 0,\n",
       " 'congeries': 0,\n",
       " 'staircases': 0,\n",
       " 'banqueting-hall': 0.02247191011235955,\n",
       " 'five': 0,\n",
       " 'acres': 0,\n",
       " 'distant': 0,\n",
       " 'half-way': 0,\n",
       " 'quarters': 0,\n",
       " 'door': 0.05607476635514019,\n",
       " 'Mrs': 0,\n",
       " \"Stewkley's\": 0,\n",
       " 'sitting-room': 0,\n",
       " 'gone': 0,\n",
       " 'doubtless': 0,\n",
       " 'keys': 0,\n",
       " 'wait': 0,\n",
       " 'mistress': 0,\n",
       " 'sitting': 0,\n",
       " 'servant': 0.021505376344086023,\n",
       " 'dinner': 0.020202020202020204,\n",
       " 'tankard': 0,\n",
       " 'beside': 0,\n",
       " 'paper': 0,\n",
       " 'front': 0,\n",
       " 'rather': 0.01639344262295082,\n",
       " 'fat': 0.043010752688172046,\n",
       " 'shabby': 0,\n",
       " 'man': 0.18784530386740333,\n",
       " 'whose': 0,\n",
       " 'ruff': 0,\n",
       " 'dirty': 0,\n",
       " 'clothes': 0,\n",
       " 'hodden': 0,\n",
       " 'brown': 0,\n",
       " 'rolling': 0,\n",
       " 'mind': 0.014925373134328358,\n",
       " 'gathered': 0,\n",
       " 'momentum': 0,\n",
       " 'liking': 0,\n",
       " 'globed': 0,\n",
       " 'clouded': 0,\n",
       " 'stone': 0.038461538461538464,\n",
       " 'curious': 0.020618556701030927,\n",
       " 'texture': 0,\n",
       " 'fixed': 0,\n",
       " 'hurry': 0,\n",
       " 'dead': 0.05263157894736842,\n",
       " 'Was': 0,\n",
       " \"'Tell\": 0,\n",
       " 'me': 0,\n",
       " 'wanted': 0,\n",
       " 'say': 0,\n",
       " \"'everything\": 0,\n",
       " 'whole': 0.029197080291970802,\n",
       " 'world': 0.08620689655172414,\n",
       " 'wildest': 0.022727272727272728,\n",
       " 'absurd': 0,\n",
       " 'extravagant': 0,\n",
       " 'ideas': 0,\n",
       " 'how': 0.011235955056179775,\n",
       " 'speak': 0,\n",
       " 'you': 0,\n",
       " 'sees': 0,\n",
       " 'ogres': 0,\n",
       " 'satyrs': 0,\n",
       " 'depths': 0,\n",
       " 'instead': 0,\n",
       " 'while': 0,\n",
       " 'fingers': 0.019230769230769232,\n",
       " 'gazed': 0,\n",
       " 'mused': 0,\n",
       " 'then': 0.02072538860103627,\n",
       " 'wrote': 0,\n",
       " 'half-a-dozen': 0,\n",
       " 'lines': 0,\n",
       " 'Whereupon': 0,\n",
       " 'overcome': 0,\n",
       " 'shyness': 0,\n",
       " 'darted': 0,\n",
       " 'just': 0,\n",
       " 'sink': 0,\n",
       " 'knees': 0,\n",
       " 'hanging': 0,\n",
       " 'offer': 0,\n",
       " 'bowl': 0,\n",
       " 'Such': 0,\n",
       " 'ringed': 0,\n",
       " 'memorable': 0,\n",
       " 'thin': 0.020202020202020204,\n",
       " 'always': 0,\n",
       " 'curling': 0,\n",
       " 'orb': 0,\n",
       " 'sceptre': 0,\n",
       " 'nervous': 0.02197802197802198,\n",
       " 'crabbed': 0,\n",
       " 'sickly': 0,\n",
       " 'commanding': 0.02247191011235955,\n",
       " 'raise': 0,\n",
       " 'fall': 0,\n",
       " 'guessed': 0,\n",
       " 'attached': 0,\n",
       " 'smelt': 0,\n",
       " 'cupboard': 0.043010752688172046,\n",
       " 'furs': 0,\n",
       " 'kept': 0,\n",
       " 'camphor': 0,\n",
       " 'caparisoned': 0,\n",
       " 'sorts': 0,\n",
       " 'brocades': 0,\n",
       " 'gems': 0,\n",
       " 'upright': 0,\n",
       " 'pain': 0,\n",
       " 'sciatica': 0,\n",
       " 'flinched': 0,\n",
       " 'strung': 0,\n",
       " 'fears': 0,\n",
       " 'All': 0,\n",
       " 'rings': 0.021739130434782608,\n",
       " 'flashed': 0,\n",
       " 'accounts': 0,\n",
       " 'seeing': 0,\n",
       " 'nothing': 0,\n",
       " 'likely': 0,\n",
       " 'use': 0,\n",
       " 'historian': 0.043478260869565216,\n",
       " 'And': 0,\n",
       " 'truth': 0.017543859649122806,\n",
       " 'welter': 0,\n",
       " 'opposites': 0,\n",
       " 'night': 0.05405405405405406,\n",
       " 'blazing': 0,\n",
       " 'silent': 0,\n",
       " 'clatter': 0,\n",
       " 'same': 0.014705882352941176,\n",
       " 'showing': 0,\n",
       " 'possible': 0,\n",
       " 'deduce': 0,\n",
       " 'informed': 0,\n",
       " 'attributes': 0,\n",
       " 'crabbedness': 0,\n",
       " 'courage': 0,\n",
       " 'frailty': 0,\n",
       " 'terror': 0.021505376344086023,\n",
       " 'surely': 0,\n",
       " 'fertile': 0,\n",
       " ...}"
      ]
     },
     "execution_count": 70,
     "metadata": {},
     "output_type": "execute_result"
    }
   ],
   "source": [
    "idx.word_similarity_dict(\"woman\")"
   ]
  },
  {
   "cell_type": "code",
   "execution_count": 60,
   "metadata": {},
   "outputs": [
    {
     "name": "stdout",
     "output_type": "stream",
     "text": [
      "woman\n",
      "word\n",
      "pair\n",
      "score\n",
      "time\n",
      "night\n",
      "life\n",
      "river\n",
      "it\n"
     ]
    }
   ],
   "source": [
    "# write a script that filters out words associated with man from words associated with woman. \n",
    "\n",
    "for word in man_words:\n",
    "    if word not in woman_words:\n",
    "        print(word)\n",
    "\n",
    "# [man_only.append(word) for word in man_words if word not in woman_words]\n",
    "        "
   ]
  },
  {
   "cell_type": "code",
   "execution_count": 61,
   "metadata": {},
   "outputs": [
    {
     "name": "stdout",
     "output_type": "stream",
     "text": [
      "man\n",
      "fox\n",
      "then\n",
      "Duke\n",
      "tree\n",
      "gipsy\n",
      "shadow\n",
      "fat\n",
      "trance\n"
     ]
    }
   ],
   "source": [
    "for word in woman_words:\n",
    "    if word not in man_words:\n",
    "        print(word)"
   ]
  },
  {
   "cell_type": "code",
   "execution_count": null,
   "metadata": {},
   "outputs": [],
   "source": [
    "orl.concordance(\"woman\")"
   ]
  },
  {
   "cell_type": "code",
   "execution_count": null,
   "metadata": {},
   "outputs": [],
   "source": [
    "orl.concordance(\"man\")"
   ]
  },
  {
   "cell_type": "code",
   "execution_count": null,
   "metadata": {},
   "outputs": [],
   "source": [
    "orl.collocations()"
   ]
  },
  {
   "cell_type": "markdown",
   "metadata": {},
   "source": [
    "# generating text"
   ]
  },
  {
   "cell_type": "code",
   "execution_count": null,
   "metadata": {},
   "outputs": [],
   "source": [
    "orl.generate()"
   ]
  },
  {
   "cell_type": "code",
   "execution_count": null,
   "metadata": {},
   "outputs": [],
   "source": [
    "words = \"\"\"'Ecstasy!' she cried, 'ecstasy!' And then the wind sank, the waters grew\n",
    "calm; and she saw the waves rippling peacefully in the moonlight.\n",
    "\n",
    "'Marmaduke Bonthrop Shelmerdine!' she cried, standing by the oak tree.\n",
    "\n",
    "The beautiful, glittering name fell out of the sky like a steel-blue\n",
    "feather. She watched it fall, turning and twisting like a slow-falling\n",
    "arrow that cleaves the deep air beautifully. He was coming, as he always\n",
    "came, in moments of dead calm; when the wave rippled and the spotted\n",
    "leaves fell slowly over her foot in the autumn woods; when the leopard\n",
    "was still; the moon was on the waters, and nothing moved in between sky\n",
    "and sea. Then he came.\n",
    "\n",
    "All was still now. It was near midnight. The moon rose slowly over the\n",
    "weald. Its light raised a phantom castle upon earth. There stood the\n",
    "great house with all its windows robed in silver. Of wall or substance\n",
    "there was none. All was phantom. All was still. All was lit as for the\n",
    "coming of a dead Queen. Gazing below her, Orlando saw dark plumes tossing\n",
    "in the courtyard, and torches flickering and shadows kneeling. A Queen\n",
    "once more stepped from her chariot.\n",
    "\n",
    "'The house is at your service, Ma'am,' she cried, curtseying deeply.\n",
    "'Nothing has been changed. The dead Lord, my father, shall lead you in.'\n",
    "\n",
    "As she spoke, the first stroke of midnight sounded. The cold breeze of\n",
    "the present brushed her face with its little breath of fear. She looked\n",
    "anxiously into the sky. It was dark with clouds now. The wind roared in\n",
    "her ears. But in the roar of the wind she heard the roar of an aeroplane\n",
    "coming nearer and nearer.\n",
    "\n",
    "'Here! Shel, here!' she cried, baring her breast to the moon (which now\n",
    "showed bright) so that her pearls glowed--like the eggs of some vast\n",
    "moon-spider. The aeroplane rushed out of the clouds and stood over her\n",
    "head. It hovered above her. Her pearls burnt like a phosphorescent flare\n",
    "in the darkness.\n",
    "\n",
    "And as Shelmerdine, now grown a fine sea captain, hale, fresh-coloured,\n",
    "and alert, leapt to the ground, there sprang up over his head a single\n",
    "wild bird.\n",
    "\n",
    "'It is the goose!' Orlando cried. 'The wild goose...'\n",
    "\n",
    "And the twelfth stroke of midnight sounded; the twelfth stroke of\n",
    "midnight, Thursday, the eleventh of October, Nineteen hundred and Twenty\n",
    "Eight.\"\"\" \n",
    "tokens = nltk.word_tokenize(words)\n",
    "orl_ending = nltk.Text(tokens)\n",
    "orl_ending.generate()"
   ]
  },
  {
   "cell_type": "markdown",
   "metadata": {},
   "source": [
    "# generating random text with bigrams\n",
    "\n"
   ]
  },
  {
   "cell_type": "code",
   "execution_count": null,
   "metadata": {},
   "outputs": [],
   "source": [
    "# The function generate_model() contains a simple loop to generate text. \n",
    "# When we call the function, we choose a word (such as 'living') as our \n",
    "# initial context, then once inside the loop, we print the current value \n",
    "# of the variable word, and reset word to be the most likely token in \n",
    "# that context (using max()); next time through the loop, we use that \n",
    "# word as our new context. As you can see by inspecting the output, this \n",
    "# simple approach to text generation tends to get stuck in loops; another \n",
    "# method would be to randomly choose the next word from among the available \n",
    "# words. from https://www.nltk.org/book/ch02.html. \n",
    "\n",
    "def generate_model(cfdist, word, num=15):\n",
    "    for i in range(num):\n",
    "        print(word, end=' ')\n",
    "        word = cfdist[word].max()\n",
    "\n",
    "bigrams = nltk.bigrams(orl)\n",
    "cfd = nltk.ConditionalFreqDist(bigrams)\n",
    "cfd['woman']"
   ]
  },
  {
   "cell_type": "code",
   "execution_count": null,
   "metadata": {},
   "outputs": [],
   "source": [
    "orl.collocations()"
   ]
  },
  {
   "cell_type": "code",
   "execution_count": null,
   "metadata": {},
   "outputs": [],
   "source": [
    "list(nltk.bigrams(orl))"
   ]
  },
  {
   "cell_type": "code",
   "execution_count": null,
   "metadata": {},
   "outputs": [],
   "source": [
    "http://www.nltk.org/book/ch02.html#generating-random-text-with-bigrams "
   ]
  }
 ],
 "metadata": {
  "kernelspec": {
   "display_name": "Python 3",
   "language": "python",
   "name": "python3"
  },
  "language_info": {
   "codemirror_mode": {
    "name": "ipython",
    "version": 3
   },
   "file_extension": ".py",
   "mimetype": "text/x-python",
   "name": "python",
   "nbconvert_exporter": "python",
   "pygments_lexer": "ipython3",
   "version": "3.7.7"
  }
 },
 "nbformat": 4,
 "nbformat_minor": 2
}
